{
 "cells": [
  {
   "cell_type": "markdown",
   "metadata": {},
   "source": [
    "## Statistics Exercises"
   ]
  },
  {
   "cell_type": "code",
   "execution_count": 20,
   "metadata": {},
   "outputs": [],
   "source": [
    "import numpy as np\n",
    "import pandas as pd\n",
    "import matplotlib.pyplot as plt"
   ]
  },
  {
   "cell_type": "markdown",
   "metadata": {},
   "source": [
    "### How likely is it that you roll doubles when rolling two dice?"
   ]
  },
  {
   "cell_type": "code",
   "execution_count": 173,
   "metadata": {},
   "outputs": [
    {
     "data": {
      "text/html": [
       "<div>\n",
       "<style scoped>\n",
       "    .dataframe tbody tr th:only-of-type {\n",
       "        vertical-align: middle;\n",
       "    }\n",
       "\n",
       "    .dataframe tbody tr th {\n",
       "        vertical-align: top;\n",
       "    }\n",
       "\n",
       "    .dataframe thead th {\n",
       "        text-align: right;\n",
       "    }\n",
       "</style>\n",
       "<table border=\"1\" class=\"dataframe\">\n",
       "  <thead>\n",
       "    <tr style=\"text-align: right;\">\n",
       "      <th></th>\n",
       "      <th>0</th>\n",
       "      <th>1</th>\n",
       "    </tr>\n",
       "  </thead>\n",
       "  <tbody>\n",
       "    <tr>\n",
       "      <td>0</td>\n",
       "      <td>4</td>\n",
       "      <td>3</td>\n",
       "    </tr>\n",
       "    <tr>\n",
       "      <td>1</td>\n",
       "      <td>1</td>\n",
       "      <td>1</td>\n",
       "    </tr>\n",
       "    <tr>\n",
       "      <td>2</td>\n",
       "      <td>3</td>\n",
       "      <td>5</td>\n",
       "    </tr>\n",
       "    <tr>\n",
       "      <td>3</td>\n",
       "      <td>2</td>\n",
       "      <td>4</td>\n",
       "    </tr>\n",
       "    <tr>\n",
       "      <td>4</td>\n",
       "      <td>6</td>\n",
       "      <td>5</td>\n",
       "    </tr>\n",
       "  </tbody>\n",
       "</table>\n",
       "</div>"
      ],
      "text/plain": [
       "   0  1\n",
       "0  4  3\n",
       "1  1  1\n",
       "2  3  5\n",
       "3  2  4\n",
       "4  6  5"
      ]
     },
     "execution_count": 173,
     "metadata": {},
     "output_type": "execute_result"
    }
   ],
   "source": [
    "# 1. Represent data 1-6\n",
    "# 2. Create the matrix\n",
    "\n",
    "dice_sample = pd.DataFrame(np.random.choice([1, 2, 3, 4, 5, 6], size=(1000, 2)))\n",
    "dice_sample.head()"
   ]
  },
  {
   "cell_type": "code",
   "execution_count": 3,
   "metadata": {},
   "outputs": [
    {
     "data": {
      "text/plain": [
       "0       True\n",
       "1      False\n",
       "2      False\n",
       "3      False\n",
       "4      False\n",
       "       ...  \n",
       "995    False\n",
       "996    False\n",
       "997    False\n",
       "998    False\n",
       "999    False\n",
       "Length: 1000, dtype: bool"
      ]
     },
     "execution_count": 3,
     "metadata": {},
     "output_type": "execute_result"
    }
   ],
   "source": [
    "dice_sample[0] == dice_sample[1]"
   ]
  },
  {
   "cell_type": "code",
   "execution_count": 4,
   "metadata": {},
   "outputs": [
    {
     "data": {
      "text/plain": [
       "0.165"
      ]
     },
     "execution_count": 4,
     "metadata": {},
     "output_type": "execute_result"
    }
   ],
   "source": [
    "(dice_sample[0] == dice_sample[1]).mean()"
   ]
  },
  {
   "cell_type": "markdown",
   "metadata": {},
   "source": [
    "### If you flip 8 coins, what is the probability of getting exactly 3 heads? What is the probability of getting more than 3 heads?"
   ]
  },
  {
   "cell_type": "code",
   "execution_count": 5,
   "metadata": {},
   "outputs": [
    {
     "data": {
      "text/plain": [
       "array([[1, 1, 0, ..., 0, 1, 1],\n",
       "       [1, 0, 1, ..., 1, 1, 0],\n",
       "       [0, 1, 0, ..., 1, 0, 0],\n",
       "       ...,\n",
       "       [0, 0, 0, ..., 1, 0, 0],\n",
       "       [1, 1, 1, ..., 0, 0, 1],\n",
       "       [0, 1, 1, ..., 1, 1, 1]])"
      ]
     },
     "execution_count": 5,
     "metadata": {},
     "output_type": "execute_result"
    }
   ],
   "source": [
    "# 1. Represent data -- 0 is tails, 1 is heads\n",
    "# 2. Create the matrix\n",
    "\n",
    "flips = np.random.choice([0,1], size=(10_000, 8))\n",
    "flips"
   ]
  },
  {
   "cell_type": "code",
   "execution_count": 6,
   "metadata": {},
   "outputs": [
    {
     "data": {
      "text/plain": [
       "array([5, 6, 4, ..., 3, 5, 7])"
      ]
     },
     "execution_count": 6,
     "metadata": {},
     "output_type": "execute_result"
    }
   ],
   "source": [
    "simulation_results = flips.sum(axis=1)\n",
    "simulation_results"
   ]
  },
  {
   "cell_type": "code",
   "execution_count": 7,
   "metadata": {},
   "outputs": [
    {
     "data": {
      "text/plain": [
       "0.217"
      ]
     },
     "execution_count": 7,
     "metadata": {},
     "output_type": "execute_result"
    }
   ],
   "source": [
    "(simulation_results == 3).mean()"
   ]
  },
  {
   "cell_type": "code",
   "execution_count": 8,
   "metadata": {},
   "outputs": [
    {
     "data": {
      "text/plain": [
       "0.6386"
      ]
     },
     "execution_count": 8,
     "metadata": {},
     "output_type": "execute_result"
    }
   ],
   "source": [
    "(simulation_results > 3).mean()"
   ]
  },
  {
   "cell_type": "markdown",
   "metadata": {},
   "source": [
    "### There are approximitely 3 web development cohorts for every 1 data science cohort at Codeup. Assuming that Codeup randomly selects an alumni to put on a billboard, what are the odds that the two billboards I drive past both have data science students on them?"
   ]
  },
  {
   "cell_type": "code",
   "execution_count": 39,
   "metadata": {},
   "outputs": [
    {
     "data": {
      "text/plain": [
       "array([[1, 1],\n",
       "       [0, 1],\n",
       "       [0, 0],\n",
       "       ...,\n",
       "       [0, 1],\n",
       "       [0, 0],\n",
       "       [1, 0]])"
      ]
     },
     "execution_count": 39,
     "metadata": {},
     "output_type": "execute_result"
    }
   ],
   "source": [
    "# 1. Represent data 1 = DS, 0 = WD\n",
    "# 2. Create the matrix\n",
    "n_rows = 10_000\n",
    "n_cols = 2\n",
    "\n",
    "cohorts = np.random.choice([1, 0, 0, 0], n_rows * n_cols).reshape(n_rows, n_cols)\n",
    "cohorts"
   ]
  },
  {
   "cell_type": "code",
   "execution_count": 40,
   "metadata": {},
   "outputs": [
    {
     "data": {
      "text/plain": [
       "0.0689"
      ]
     },
     "execution_count": 40,
     "metadata": {},
     "output_type": "execute_result"
    }
   ],
   "source": [
    "billboards_2_ds = ((cohorts.sum(axis = 1) == 2).mean())\n",
    "billboards_2_ds"
   ]
  },
  {
   "cell_type": "markdown",
   "metadata": {},
   "source": [
    "### Codeup students buy, on average, 3 poptart packages (+- 1.5) a day from the snack vending machine. If on monday the machine is restocked with 17 poptart packages, how likely is it that I will be able to buy some poptarts on Friday afternoon?"
   ]
  },
  {
   "cell_type": "code",
   "execution_count": 77,
   "metadata": {},
   "outputs": [
    {
     "data": {
      "text/plain": [
       "array([[3., 1., 5., 1., 3.],\n",
       "       [3., 4., 5., 4., 4.],\n",
       "       [2., 2., 3., 0., 4.],\n",
       "       ...,\n",
       "       [4., 5., 4., 4., 0.],\n",
       "       [3., 5., 3., 3., 7.],\n",
       "       [4., 6., 4., 2., 3.]])"
      ]
     },
     "execution_count": 77,
     "metadata": {},
     "output_type": "execute_result"
    }
   ],
   "source": [
    "# 1. Represent data \n",
    "# 2. Create the matrix\n",
    "poptarts = np.random.normal(3, 1.5, (1000000,5))\n",
    "poptarts = np.where(poptarts < 0, 0, poptarts)\n",
    "purchase_poptarts = poptarts.round(0)\n",
    "purchase_poptarts"
   ]
  },
  {
   "cell_type": "code",
   "execution_count": 96,
   "metadata": {},
   "outputs": [
    {
     "data": {
      "text/plain": [
       "0.670521"
      ]
     },
     "execution_count": 96,
     "metadata": {},
     "output_type": "execute_result"
    }
   ],
   "source": [
    "poptarts_left = ((purchased_poptarts.sum(1) <= 16).mean())\n",
    "poptarts_left"
   ]
  },
  {
   "cell_type": "markdown",
   "metadata": {},
   "source": [
    "### Compare Heights\n",
    "\n",
    "- Men have an average height of 178 cm and standard deviation of 8cm.\n",
    "- Women have a mean of 170, sd = 6cm.\n",
    "- If a man and woman are chosen at random, P(woman taller than man)?"
   ]
  },
  {
   "cell_type": "code",
   "execution_count": 41,
   "metadata": {},
   "outputs": [
    {
     "data": {
      "text/plain": [
       "0.21311"
      ]
     },
     "execution_count": 41,
     "metadata": {},
     "output_type": "execute_result"
    }
   ],
   "source": [
    "# 1. Represent data\n",
    "# 2. Create the matrix\n",
    "\n",
    "men = np.random.normal(178, 8, 100_000)\n",
    "women = np.random.normal(170, 6, 100_000)\n",
    "woman_taller = (women > men).mean()\n",
    "woman_taller"
   ]
  },
  {
   "cell_type": "markdown",
   "metadata": {},
   "source": [
    "### When installing anaconda on a student's computer, there's a 1 in 250 chance that the download is corrupted and the installation fails. What are the odds that after having 50 students download anaconda, no one has an installation issue? 100 students?\n",
    "\n",
    "### What is the probability that we observe an installation issue within the first 150 students that download anaconda?\n",
    "\n",
    "### How likely is it that 450 students all download anaconda without an issue?"
   ]
  },
  {
   "cell_type": "code",
   "execution_count": 141,
   "metadata": {},
   "outputs": [],
   "source": [
    "# 1. Represent data\n",
    "# 2. Create the matrix\n",
    "\n",
    "n_rows = 10_000\n",
    "\n",
    "def anaconda_installs(trials):\n",
    "    return np.random.choice(249 * [False]  + [True], (n_rows, trials))"
   ]
  },
  {
   "cell_type": "code",
   "execution_count": 142,
   "metadata": {},
   "outputs": [
    {
     "data": {
      "text/plain": [
       "array([0, 0, 0, ..., 0, 0, 0])"
      ]
     },
     "execution_count": 142,
     "metadata": {},
     "output_type": "execute_result"
    }
   ],
   "source": [
    "trials_50 = anaconda_installs(50)\n",
    "trials_50.sum(axis = 1)"
   ]
  },
  {
   "cell_type": "code",
   "execution_count": 143,
   "metadata": {},
   "outputs": [
    {
     "data": {
      "text/plain": [
       "0.8206"
      ]
     },
     "execution_count": 143,
     "metadata": {},
     "output_type": "execute_result"
    }
   ],
   "source": [
    "(trials_50.sum(axis = 1) == 0).mean()"
   ]
  },
  {
   "cell_type": "code",
   "execution_count": 144,
   "metadata": {},
   "outputs": [
    {
     "data": {
      "text/plain": [
       "array([2, 0, 0, ..., 0, 0, 2])"
      ]
     },
     "execution_count": 144,
     "metadata": {},
     "output_type": "execute_result"
    }
   ],
   "source": [
    "trials_100 = anaconda_installs(100)\n",
    "trials_100.sum(axis = 1)"
   ]
  },
  {
   "cell_type": "code",
   "execution_count": 145,
   "metadata": {},
   "outputs": [
    {
     "data": {
      "text/plain": [
       "0.3355"
      ]
     },
     "execution_count": 145,
     "metadata": {},
     "output_type": "execute_result"
    }
   ],
   "source": [
    "1 - (trials_100.sum(axis = 1) == 0).mean()"
   ]
  },
  {
   "cell_type": "code",
   "execution_count": 146,
   "metadata": {},
   "outputs": [
    {
     "data": {
      "text/plain": [
       "array([1, 1, 1, ..., 3, 1, 2])"
      ]
     },
     "execution_count": 146,
     "metadata": {},
     "output_type": "execute_result"
    }
   ],
   "source": [
    "trials_450 = anaconda_installs(450)\n",
    "trials_450.sum(axis = 1)"
   ]
  },
  {
   "cell_type": "code",
   "execution_count": 147,
   "metadata": {},
   "outputs": [
    {
     "data": {
      "text/plain": [
       "0.1689"
      ]
     },
     "execution_count": 147,
     "metadata": {},
     "output_type": "execute_result"
    }
   ],
   "source": [
    "(trials_450.sum(axis = 1) == 0).mean()"
   ]
  },
  {
   "cell_type": "markdown",
   "metadata": {},
   "source": [
    "### There's a 70% chance on any given day that there will be at least one food truck at Travis Park. However, you haven't seen a food truck there in 3 days. How unlikely is this?\n",
    "\n",
    "### How likely is it that a food truck will show up sometime this week?"
   ]
  },
  {
   "cell_type": "code",
   "execution_count": 123,
   "metadata": {},
   "outputs": [
    {
     "data": {
      "text/plain": [
       "array([[0, 1, 0],\n",
       "       [1, 1, 1],\n",
       "       [1, 0, 1],\n",
       "       ...,\n",
       "       [1, 0, 1],\n",
       "       [0, 0, 1],\n",
       "       [0, 0, 1]])"
      ]
     },
     "execution_count": 123,
     "metadata": {},
     "output_type": "execute_result"
    }
   ],
   "source": [
    "# 1. Represent data\n",
    "# 2. Create the matrix\n",
    "\n",
    "days = np.random.choice([0 ,1], size=(10_000, 3), p=(.3, .7))\n",
    "days"
   ]
  },
  {
   "cell_type": "code",
   "execution_count": 124,
   "metadata": {},
   "outputs": [
    {
     "data": {
      "text/plain": [
       "0.0285"
      ]
     },
     "execution_count": 124,
     "metadata": {},
     "output_type": "execute_result"
    }
   ],
   "source": [
    "(days.sum(axis = 1) == 0).mean()"
   ]
  },
  {
   "cell_type": "markdown",
   "metadata": {},
   "source": [
    "### If 23 people are in the same room, what are the odds that two of them share a birthday? What if it's 20 people? 40?"
   ]
  },
  {
   "cell_type": "code",
   "execution_count": 174,
   "metadata": {},
   "outputs": [
    {
     "data": {
      "text/plain": [
       "array([[359,  48,  25, ...,  38,  86, 141],\n",
       "       [ 37, 303, 186, ...,   9, 249, 320],\n",
       "       [290, 230, 118, ..., 129, 254,  85],\n",
       "       ...,\n",
       "       [ 67,  90, 297, ...,   5, 334,  96],\n",
       "       [133, 246, 252, ..., 189, 216, 188],\n",
       "       [ 64, 290,  52, ..., 297,  78, 122]])"
      ]
     },
     "execution_count": 174,
     "metadata": {},
     "output_type": "execute_result"
    }
   ],
   "source": [
    "# 1. Represent data\n",
    "# 2. Create the matrix\n",
    "\n",
    "random_23_birthdays = np.random.randint(0,365,(10_000,23))\n",
    "random_23_birthdays"
   ]
  },
  {
   "cell_type": "code",
   "execution_count": 175,
   "metadata": {},
   "outputs": [
    {
     "data": {
      "text/html": [
       "<div>\n",
       "<style scoped>\n",
       "    .dataframe tbody tr th:only-of-type {\n",
       "        vertical-align: middle;\n",
       "    }\n",
       "\n",
       "    .dataframe tbody tr th {\n",
       "        vertical-align: top;\n",
       "    }\n",
       "\n",
       "    .dataframe thead th {\n",
       "        text-align: right;\n",
       "    }\n",
       "</style>\n",
       "<table border=\"1\" class=\"dataframe\">\n",
       "  <thead>\n",
       "    <tr style=\"text-align: right;\">\n",
       "      <th></th>\n",
       "      <th>0</th>\n",
       "      <th>1</th>\n",
       "      <th>2</th>\n",
       "      <th>3</th>\n",
       "      <th>4</th>\n",
       "      <th>5</th>\n",
       "      <th>6</th>\n",
       "      <th>7</th>\n",
       "      <th>8</th>\n",
       "      <th>9</th>\n",
       "      <th>...</th>\n",
       "      <th>13</th>\n",
       "      <th>14</th>\n",
       "      <th>15</th>\n",
       "      <th>16</th>\n",
       "      <th>17</th>\n",
       "      <th>18</th>\n",
       "      <th>19</th>\n",
       "      <th>20</th>\n",
       "      <th>21</th>\n",
       "      <th>22</th>\n",
       "    </tr>\n",
       "  </thead>\n",
       "  <tbody>\n",
       "    <tr>\n",
       "      <td>0</td>\n",
       "      <td>359</td>\n",
       "      <td>48</td>\n",
       "      <td>25</td>\n",
       "      <td>90</td>\n",
       "      <td>172</td>\n",
       "      <td>48</td>\n",
       "      <td>333</td>\n",
       "      <td>6</td>\n",
       "      <td>290</td>\n",
       "      <td>214</td>\n",
       "      <td>...</td>\n",
       "      <td>321</td>\n",
       "      <td>6</td>\n",
       "      <td>191</td>\n",
       "      <td>130</td>\n",
       "      <td>76</td>\n",
       "      <td>245</td>\n",
       "      <td>314</td>\n",
       "      <td>38</td>\n",
       "      <td>86</td>\n",
       "      <td>141</td>\n",
       "    </tr>\n",
       "    <tr>\n",
       "      <td>1</td>\n",
       "      <td>37</td>\n",
       "      <td>303</td>\n",
       "      <td>186</td>\n",
       "      <td>212</td>\n",
       "      <td>147</td>\n",
       "      <td>165</td>\n",
       "      <td>168</td>\n",
       "      <td>227</td>\n",
       "      <td>11</td>\n",
       "      <td>107</td>\n",
       "      <td>...</td>\n",
       "      <td>305</td>\n",
       "      <td>228</td>\n",
       "      <td>21</td>\n",
       "      <td>27</td>\n",
       "      <td>174</td>\n",
       "      <td>325</td>\n",
       "      <td>0</td>\n",
       "      <td>9</td>\n",
       "      <td>249</td>\n",
       "      <td>320</td>\n",
       "    </tr>\n",
       "    <tr>\n",
       "      <td>2</td>\n",
       "      <td>290</td>\n",
       "      <td>230</td>\n",
       "      <td>118</td>\n",
       "      <td>177</td>\n",
       "      <td>185</td>\n",
       "      <td>46</td>\n",
       "      <td>10</td>\n",
       "      <td>161</td>\n",
       "      <td>314</td>\n",
       "      <td>82</td>\n",
       "      <td>...</td>\n",
       "      <td>303</td>\n",
       "      <td>214</td>\n",
       "      <td>321</td>\n",
       "      <td>55</td>\n",
       "      <td>57</td>\n",
       "      <td>167</td>\n",
       "      <td>105</td>\n",
       "      <td>129</td>\n",
       "      <td>254</td>\n",
       "      <td>85</td>\n",
       "    </tr>\n",
       "    <tr>\n",
       "      <td>3</td>\n",
       "      <td>346</td>\n",
       "      <td>143</td>\n",
       "      <td>283</td>\n",
       "      <td>322</td>\n",
       "      <td>264</td>\n",
       "      <td>163</td>\n",
       "      <td>198</td>\n",
       "      <td>201</td>\n",
       "      <td>275</td>\n",
       "      <td>138</td>\n",
       "      <td>...</td>\n",
       "      <td>97</td>\n",
       "      <td>16</td>\n",
       "      <td>209</td>\n",
       "      <td>122</td>\n",
       "      <td>82</td>\n",
       "      <td>126</td>\n",
       "      <td>340</td>\n",
       "      <td>140</td>\n",
       "      <td>178</td>\n",
       "      <td>199</td>\n",
       "    </tr>\n",
       "    <tr>\n",
       "      <td>4</td>\n",
       "      <td>37</td>\n",
       "      <td>52</td>\n",
       "      <td>53</td>\n",
       "      <td>147</td>\n",
       "      <td>271</td>\n",
       "      <td>136</td>\n",
       "      <td>305</td>\n",
       "      <td>157</td>\n",
       "      <td>55</td>\n",
       "      <td>110</td>\n",
       "      <td>...</td>\n",
       "      <td>86</td>\n",
       "      <td>84</td>\n",
       "      <td>15</td>\n",
       "      <td>77</td>\n",
       "      <td>250</td>\n",
       "      <td>21</td>\n",
       "      <td>268</td>\n",
       "      <td>358</td>\n",
       "      <td>25</td>\n",
       "      <td>85</td>\n",
       "    </tr>\n",
       "    <tr>\n",
       "      <td>...</td>\n",
       "      <td>...</td>\n",
       "      <td>...</td>\n",
       "      <td>...</td>\n",
       "      <td>...</td>\n",
       "      <td>...</td>\n",
       "      <td>...</td>\n",
       "      <td>...</td>\n",
       "      <td>...</td>\n",
       "      <td>...</td>\n",
       "      <td>...</td>\n",
       "      <td>...</td>\n",
       "      <td>...</td>\n",
       "      <td>...</td>\n",
       "      <td>...</td>\n",
       "      <td>...</td>\n",
       "      <td>...</td>\n",
       "      <td>...</td>\n",
       "      <td>...</td>\n",
       "      <td>...</td>\n",
       "      <td>...</td>\n",
       "      <td>...</td>\n",
       "    </tr>\n",
       "    <tr>\n",
       "      <td>9995</td>\n",
       "      <td>46</td>\n",
       "      <td>273</td>\n",
       "      <td>129</td>\n",
       "      <td>95</td>\n",
       "      <td>140</td>\n",
       "      <td>34</td>\n",
       "      <td>151</td>\n",
       "      <td>225</td>\n",
       "      <td>35</td>\n",
       "      <td>67</td>\n",
       "      <td>...</td>\n",
       "      <td>96</td>\n",
       "      <td>294</td>\n",
       "      <td>224</td>\n",
       "      <td>335</td>\n",
       "      <td>353</td>\n",
       "      <td>32</td>\n",
       "      <td>260</td>\n",
       "      <td>174</td>\n",
       "      <td>235</td>\n",
       "      <td>236</td>\n",
       "    </tr>\n",
       "    <tr>\n",
       "      <td>9996</td>\n",
       "      <td>81</td>\n",
       "      <td>59</td>\n",
       "      <td>78</td>\n",
       "      <td>56</td>\n",
       "      <td>345</td>\n",
       "      <td>201</td>\n",
       "      <td>106</td>\n",
       "      <td>254</td>\n",
       "      <td>222</td>\n",
       "      <td>149</td>\n",
       "      <td>...</td>\n",
       "      <td>240</td>\n",
       "      <td>72</td>\n",
       "      <td>261</td>\n",
       "      <td>361</td>\n",
       "      <td>285</td>\n",
       "      <td>57</td>\n",
       "      <td>120</td>\n",
       "      <td>339</td>\n",
       "      <td>239</td>\n",
       "      <td>337</td>\n",
       "    </tr>\n",
       "    <tr>\n",
       "      <td>9997</td>\n",
       "      <td>67</td>\n",
       "      <td>90</td>\n",
       "      <td>297</td>\n",
       "      <td>68</td>\n",
       "      <td>361</td>\n",
       "      <td>324</td>\n",
       "      <td>313</td>\n",
       "      <td>114</td>\n",
       "      <td>194</td>\n",
       "      <td>168</td>\n",
       "      <td>...</td>\n",
       "      <td>286</td>\n",
       "      <td>220</td>\n",
       "      <td>75</td>\n",
       "      <td>285</td>\n",
       "      <td>234</td>\n",
       "      <td>291</td>\n",
       "      <td>117</td>\n",
       "      <td>5</td>\n",
       "      <td>334</td>\n",
       "      <td>96</td>\n",
       "    </tr>\n",
       "    <tr>\n",
       "      <td>9998</td>\n",
       "      <td>133</td>\n",
       "      <td>246</td>\n",
       "      <td>252</td>\n",
       "      <td>24</td>\n",
       "      <td>145</td>\n",
       "      <td>17</td>\n",
       "      <td>362</td>\n",
       "      <td>86</td>\n",
       "      <td>281</td>\n",
       "      <td>140</td>\n",
       "      <td>...</td>\n",
       "      <td>223</td>\n",
       "      <td>45</td>\n",
       "      <td>310</td>\n",
       "      <td>20</td>\n",
       "      <td>296</td>\n",
       "      <td>242</td>\n",
       "      <td>322</td>\n",
       "      <td>189</td>\n",
       "      <td>216</td>\n",
       "      <td>188</td>\n",
       "    </tr>\n",
       "    <tr>\n",
       "      <td>9999</td>\n",
       "      <td>64</td>\n",
       "      <td>290</td>\n",
       "      <td>52</td>\n",
       "      <td>199</td>\n",
       "      <td>221</td>\n",
       "      <td>140</td>\n",
       "      <td>133</td>\n",
       "      <td>163</td>\n",
       "      <td>87</td>\n",
       "      <td>177</td>\n",
       "      <td>...</td>\n",
       "      <td>107</td>\n",
       "      <td>215</td>\n",
       "      <td>10</td>\n",
       "      <td>324</td>\n",
       "      <td>282</td>\n",
       "      <td>112</td>\n",
       "      <td>104</td>\n",
       "      <td>297</td>\n",
       "      <td>78</td>\n",
       "      <td>122</td>\n",
       "    </tr>\n",
       "  </tbody>\n",
       "</table>\n",
       "<p>10000 rows × 23 columns</p>\n",
       "</div>"
      ],
      "text/plain": [
       "       0    1    2    3    4    5    6    7    8    9   ...   13   14   15  \\\n",
       "0     359   48   25   90  172   48  333    6  290  214  ...  321    6  191   \n",
       "1      37  303  186  212  147  165  168  227   11  107  ...  305  228   21   \n",
       "2     290  230  118  177  185   46   10  161  314   82  ...  303  214  321   \n",
       "3     346  143  283  322  264  163  198  201  275  138  ...   97   16  209   \n",
       "4      37   52   53  147  271  136  305  157   55  110  ...   86   84   15   \n",
       "...   ...  ...  ...  ...  ...  ...  ...  ...  ...  ...  ...  ...  ...  ...   \n",
       "9995   46  273  129   95  140   34  151  225   35   67  ...   96  294  224   \n",
       "9996   81   59   78   56  345  201  106  254  222  149  ...  240   72  261   \n",
       "9997   67   90  297   68  361  324  313  114  194  168  ...  286  220   75   \n",
       "9998  133  246  252   24  145   17  362   86  281  140  ...  223   45  310   \n",
       "9999   64  290   52  199  221  140  133  163   87  177  ...  107  215   10   \n",
       "\n",
       "       16   17   18   19   20   21   22  \n",
       "0     130   76  245  314   38   86  141  \n",
       "1      27  174  325    0    9  249  320  \n",
       "2      55   57  167  105  129  254   85  \n",
       "3     122   82  126  340  140  178  199  \n",
       "4      77  250   21  268  358   25   85  \n",
       "...   ...  ...  ...  ...  ...  ...  ...  \n",
       "9995  335  353   32  260  174  235  236  \n",
       "9996  361  285   57  120  339  239  337  \n",
       "9997  285  234  291  117    5  334   96  \n",
       "9998   20  296  242  322  189  216  188  \n",
       "9999  324  282  112  104  297   78  122  \n",
       "\n",
       "[10000 rows x 23 columns]"
      ]
     },
     "execution_count": 175,
     "metadata": {},
     "output_type": "execute_result"
    }
   ],
   "source": [
    "random_23 = pd.DataFrame(random_23_birthdays)\n",
    "random_23"
   ]
  },
  {
   "cell_type": "code",
   "execution_count": 176,
   "metadata": {},
   "outputs": [
    {
     "data": {
      "text/plain": [
       "0.505"
      ]
     },
     "execution_count": 176,
     "metadata": {},
     "output_type": "execute_result"
    }
   ],
   "source": [
    "shared_birthdays_23 = random_23.apply(lambda x: len(set(x)) != len(x), axis=1).mean()\n",
    "shared_birthdays_23"
   ]
  },
  {
   "cell_type": "code",
   "execution_count": 177,
   "metadata": {},
   "outputs": [
    {
     "data": {
      "text/plain": [
       "array([[235,  58, 288, ...,  60, 271,  65],\n",
       "       [109, 285, 233, ..., 268, 132,  49],\n",
       "       [282, 101, 316, ..., 221,  34, 153],\n",
       "       ...,\n",
       "       [126, 324, 135, ..., 285, 280, 240],\n",
       "       [245,  71, 224, ..., 335, 251, 284],\n",
       "       [ 45, 205,  69, ..., 298, 246, 275]])"
      ]
     },
     "execution_count": 177,
     "metadata": {},
     "output_type": "execute_result"
    }
   ],
   "source": [
    "random_20_birthdays = np.random.randint(0,366,(10_000,20))\n",
    "random_20_birthdays"
   ]
  },
  {
   "cell_type": "code",
   "execution_count": 178,
   "metadata": {},
   "outputs": [
    {
     "data": {
      "text/html": [
       "<div>\n",
       "<style scoped>\n",
       "    .dataframe tbody tr th:only-of-type {\n",
       "        vertical-align: middle;\n",
       "    }\n",
       "\n",
       "    .dataframe tbody tr th {\n",
       "        vertical-align: top;\n",
       "    }\n",
       "\n",
       "    .dataframe thead th {\n",
       "        text-align: right;\n",
       "    }\n",
       "</style>\n",
       "<table border=\"1\" class=\"dataframe\">\n",
       "  <thead>\n",
       "    <tr style=\"text-align: right;\">\n",
       "      <th></th>\n",
       "      <th>0</th>\n",
       "      <th>1</th>\n",
       "      <th>2</th>\n",
       "      <th>3</th>\n",
       "      <th>4</th>\n",
       "      <th>5</th>\n",
       "      <th>6</th>\n",
       "      <th>7</th>\n",
       "      <th>8</th>\n",
       "      <th>9</th>\n",
       "      <th>10</th>\n",
       "      <th>11</th>\n",
       "      <th>12</th>\n",
       "      <th>13</th>\n",
       "      <th>14</th>\n",
       "      <th>15</th>\n",
       "      <th>16</th>\n",
       "      <th>17</th>\n",
       "      <th>18</th>\n",
       "      <th>19</th>\n",
       "    </tr>\n",
       "  </thead>\n",
       "  <tbody>\n",
       "    <tr>\n",
       "      <td>0</td>\n",
       "      <td>235</td>\n",
       "      <td>58</td>\n",
       "      <td>288</td>\n",
       "      <td>151</td>\n",
       "      <td>290</td>\n",
       "      <td>320</td>\n",
       "      <td>299</td>\n",
       "      <td>355</td>\n",
       "      <td>361</td>\n",
       "      <td>204</td>\n",
       "      <td>268</td>\n",
       "      <td>365</td>\n",
       "      <td>236</td>\n",
       "      <td>79</td>\n",
       "      <td>290</td>\n",
       "      <td>349</td>\n",
       "      <td>99</td>\n",
       "      <td>60</td>\n",
       "      <td>271</td>\n",
       "      <td>65</td>\n",
       "    </tr>\n",
       "    <tr>\n",
       "      <td>1</td>\n",
       "      <td>109</td>\n",
       "      <td>285</td>\n",
       "      <td>233</td>\n",
       "      <td>189</td>\n",
       "      <td>126</td>\n",
       "      <td>187</td>\n",
       "      <td>353</td>\n",
       "      <td>204</td>\n",
       "      <td>359</td>\n",
       "      <td>253</td>\n",
       "      <td>316</td>\n",
       "      <td>18</td>\n",
       "      <td>282</td>\n",
       "      <td>351</td>\n",
       "      <td>286</td>\n",
       "      <td>50</td>\n",
       "      <td>18</td>\n",
       "      <td>268</td>\n",
       "      <td>132</td>\n",
       "      <td>49</td>\n",
       "    </tr>\n",
       "    <tr>\n",
       "      <td>2</td>\n",
       "      <td>282</td>\n",
       "      <td>101</td>\n",
       "      <td>316</td>\n",
       "      <td>335</td>\n",
       "      <td>291</td>\n",
       "      <td>157</td>\n",
       "      <td>326</td>\n",
       "      <td>94</td>\n",
       "      <td>44</td>\n",
       "      <td>29</td>\n",
       "      <td>115</td>\n",
       "      <td>111</td>\n",
       "      <td>44</td>\n",
       "      <td>16</td>\n",
       "      <td>242</td>\n",
       "      <td>226</td>\n",
       "      <td>149</td>\n",
       "      <td>221</td>\n",
       "      <td>34</td>\n",
       "      <td>153</td>\n",
       "    </tr>\n",
       "    <tr>\n",
       "      <td>3</td>\n",
       "      <td>2</td>\n",
       "      <td>317</td>\n",
       "      <td>76</td>\n",
       "      <td>65</td>\n",
       "      <td>257</td>\n",
       "      <td>83</td>\n",
       "      <td>30</td>\n",
       "      <td>179</td>\n",
       "      <td>211</td>\n",
       "      <td>37</td>\n",
       "      <td>258</td>\n",
       "      <td>167</td>\n",
       "      <td>30</td>\n",
       "      <td>113</td>\n",
       "      <td>20</td>\n",
       "      <td>26</td>\n",
       "      <td>272</td>\n",
       "      <td>175</td>\n",
       "      <td>227</td>\n",
       "      <td>103</td>\n",
       "    </tr>\n",
       "    <tr>\n",
       "      <td>4</td>\n",
       "      <td>255</td>\n",
       "      <td>61</td>\n",
       "      <td>153</td>\n",
       "      <td>48</td>\n",
       "      <td>313</td>\n",
       "      <td>230</td>\n",
       "      <td>245</td>\n",
       "      <td>159</td>\n",
       "      <td>181</td>\n",
       "      <td>253</td>\n",
       "      <td>49</td>\n",
       "      <td>51</td>\n",
       "      <td>230</td>\n",
       "      <td>52</td>\n",
       "      <td>326</td>\n",
       "      <td>253</td>\n",
       "      <td>61</td>\n",
       "      <td>315</td>\n",
       "      <td>303</td>\n",
       "      <td>67</td>\n",
       "    </tr>\n",
       "    <tr>\n",
       "      <td>...</td>\n",
       "      <td>...</td>\n",
       "      <td>...</td>\n",
       "      <td>...</td>\n",
       "      <td>...</td>\n",
       "      <td>...</td>\n",
       "      <td>...</td>\n",
       "      <td>...</td>\n",
       "      <td>...</td>\n",
       "      <td>...</td>\n",
       "      <td>...</td>\n",
       "      <td>...</td>\n",
       "      <td>...</td>\n",
       "      <td>...</td>\n",
       "      <td>...</td>\n",
       "      <td>...</td>\n",
       "      <td>...</td>\n",
       "      <td>...</td>\n",
       "      <td>...</td>\n",
       "      <td>...</td>\n",
       "      <td>...</td>\n",
       "    </tr>\n",
       "    <tr>\n",
       "      <td>9995</td>\n",
       "      <td>318</td>\n",
       "      <td>64</td>\n",
       "      <td>264</td>\n",
       "      <td>64</td>\n",
       "      <td>359</td>\n",
       "      <td>98</td>\n",
       "      <td>360</td>\n",
       "      <td>365</td>\n",
       "      <td>351</td>\n",
       "      <td>332</td>\n",
       "      <td>357</td>\n",
       "      <td>141</td>\n",
       "      <td>240</td>\n",
       "      <td>302</td>\n",
       "      <td>7</td>\n",
       "      <td>84</td>\n",
       "      <td>74</td>\n",
       "      <td>300</td>\n",
       "      <td>360</td>\n",
       "      <td>14</td>\n",
       "    </tr>\n",
       "    <tr>\n",
       "      <td>9996</td>\n",
       "      <td>128</td>\n",
       "      <td>238</td>\n",
       "      <td>117</td>\n",
       "      <td>271</td>\n",
       "      <td>223</td>\n",
       "      <td>85</td>\n",
       "      <td>198</td>\n",
       "      <td>42</td>\n",
       "      <td>68</td>\n",
       "      <td>77</td>\n",
       "      <td>324</td>\n",
       "      <td>0</td>\n",
       "      <td>38</td>\n",
       "      <td>329</td>\n",
       "      <td>185</td>\n",
       "      <td>355</td>\n",
       "      <td>22</td>\n",
       "      <td>35</td>\n",
       "      <td>254</td>\n",
       "      <td>202</td>\n",
       "    </tr>\n",
       "    <tr>\n",
       "      <td>9997</td>\n",
       "      <td>126</td>\n",
       "      <td>324</td>\n",
       "      <td>135</td>\n",
       "      <td>168</td>\n",
       "      <td>350</td>\n",
       "      <td>327</td>\n",
       "      <td>301</td>\n",
       "      <td>86</td>\n",
       "      <td>302</td>\n",
       "      <td>309</td>\n",
       "      <td>262</td>\n",
       "      <td>170</td>\n",
       "      <td>83</td>\n",
       "      <td>145</td>\n",
       "      <td>130</td>\n",
       "      <td>244</td>\n",
       "      <td>99</td>\n",
       "      <td>285</td>\n",
       "      <td>280</td>\n",
       "      <td>240</td>\n",
       "    </tr>\n",
       "    <tr>\n",
       "      <td>9998</td>\n",
       "      <td>245</td>\n",
       "      <td>71</td>\n",
       "      <td>224</td>\n",
       "      <td>281</td>\n",
       "      <td>268</td>\n",
       "      <td>361</td>\n",
       "      <td>362</td>\n",
       "      <td>241</td>\n",
       "      <td>364</td>\n",
       "      <td>133</td>\n",
       "      <td>47</td>\n",
       "      <td>337</td>\n",
       "      <td>289</td>\n",
       "      <td>233</td>\n",
       "      <td>112</td>\n",
       "      <td>341</td>\n",
       "      <td>226</td>\n",
       "      <td>335</td>\n",
       "      <td>251</td>\n",
       "      <td>284</td>\n",
       "    </tr>\n",
       "    <tr>\n",
       "      <td>9999</td>\n",
       "      <td>45</td>\n",
       "      <td>205</td>\n",
       "      <td>69</td>\n",
       "      <td>359</td>\n",
       "      <td>22</td>\n",
       "      <td>152</td>\n",
       "      <td>297</td>\n",
       "      <td>112</td>\n",
       "      <td>112</td>\n",
       "      <td>127</td>\n",
       "      <td>26</td>\n",
       "      <td>316</td>\n",
       "      <td>339</td>\n",
       "      <td>256</td>\n",
       "      <td>12</td>\n",
       "      <td>76</td>\n",
       "      <td>302</td>\n",
       "      <td>298</td>\n",
       "      <td>246</td>\n",
       "      <td>275</td>\n",
       "    </tr>\n",
       "  </tbody>\n",
       "</table>\n",
       "<p>10000 rows × 20 columns</p>\n",
       "</div>"
      ],
      "text/plain": [
       "        0    1    2    3    4    5    6    7    8    9   10   11   12   13  \\\n",
       "0     235   58  288  151  290  320  299  355  361  204  268  365  236   79   \n",
       "1     109  285  233  189  126  187  353  204  359  253  316   18  282  351   \n",
       "2     282  101  316  335  291  157  326   94   44   29  115  111   44   16   \n",
       "3       2  317   76   65  257   83   30  179  211   37  258  167   30  113   \n",
       "4     255   61  153   48  313  230  245  159  181  253   49   51  230   52   \n",
       "...   ...  ...  ...  ...  ...  ...  ...  ...  ...  ...  ...  ...  ...  ...   \n",
       "9995  318   64  264   64  359   98  360  365  351  332  357  141  240  302   \n",
       "9996  128  238  117  271  223   85  198   42   68   77  324    0   38  329   \n",
       "9997  126  324  135  168  350  327  301   86  302  309  262  170   83  145   \n",
       "9998  245   71  224  281  268  361  362  241  364  133   47  337  289  233   \n",
       "9999   45  205   69  359   22  152  297  112  112  127   26  316  339  256   \n",
       "\n",
       "       14   15   16   17   18   19  \n",
       "0     290  349   99   60  271   65  \n",
       "1     286   50   18  268  132   49  \n",
       "2     242  226  149  221   34  153  \n",
       "3      20   26  272  175  227  103  \n",
       "4     326  253   61  315  303   67  \n",
       "...   ...  ...  ...  ...  ...  ...  \n",
       "9995    7   84   74  300  360   14  \n",
       "9996  185  355   22   35  254  202  \n",
       "9997  130  244   99  285  280  240  \n",
       "9998  112  341  226  335  251  284  \n",
       "9999   12   76  302  298  246  275  \n",
       "\n",
       "[10000 rows x 20 columns]"
      ]
     },
     "execution_count": 178,
     "metadata": {},
     "output_type": "execute_result"
    }
   ],
   "source": [
    "random_20 = pd.DataFrame(random_20_birthdays)\n",
    "random_20"
   ]
  },
  {
   "cell_type": "code",
   "execution_count": 179,
   "metadata": {},
   "outputs": [
    {
     "data": {
      "text/plain": [
       "0.4143"
      ]
     },
     "execution_count": 179,
     "metadata": {},
     "output_type": "execute_result"
    }
   ],
   "source": [
    "shared_birthdays_20 = random_20.apply(lambda x: len(set(x)) != len(x), axis=1).mean()\n",
    "shared_birthdays_20"
   ]
  },
  {
   "cell_type": "code",
   "execution_count": 170,
   "metadata": {},
   "outputs": [
    {
     "data": {
      "text/plain": [
       "array([[ 59,  15, 215, ..., 329, 256,  15],\n",
       "       [ 82,  29, 163, ...,  23, 184, 216],\n",
       "       [179, 147, 208, ...,  55, 283,   8],\n",
       "       ...,\n",
       "       [ 22, 347, 159, ..., 261,  25, 238],\n",
       "       [331, 131,  24, ...,  87, 183,  54],\n",
       "       [ 35,  75, 292, ..., 145, 114, 282]])"
      ]
     },
     "execution_count": 170,
     "metadata": {},
     "output_type": "execute_result"
    }
   ],
   "source": [
    "random_40_birthdays = np.random.randint(0,366,(10_000,40))\n",
    "random_40_birthdays"
   ]
  },
  {
   "cell_type": "code",
   "execution_count": 171,
   "metadata": {},
   "outputs": [
    {
     "data": {
      "text/html": [
       "<div>\n",
       "<style scoped>\n",
       "    .dataframe tbody tr th:only-of-type {\n",
       "        vertical-align: middle;\n",
       "    }\n",
       "\n",
       "    .dataframe tbody tr th {\n",
       "        vertical-align: top;\n",
       "    }\n",
       "\n",
       "    .dataframe thead th {\n",
       "        text-align: right;\n",
       "    }\n",
       "</style>\n",
       "<table border=\"1\" class=\"dataframe\">\n",
       "  <thead>\n",
       "    <tr style=\"text-align: right;\">\n",
       "      <th></th>\n",
       "      <th>0</th>\n",
       "      <th>1</th>\n",
       "      <th>2</th>\n",
       "      <th>3</th>\n",
       "      <th>4</th>\n",
       "      <th>5</th>\n",
       "      <th>6</th>\n",
       "      <th>7</th>\n",
       "      <th>8</th>\n",
       "      <th>9</th>\n",
       "      <th>...</th>\n",
       "      <th>30</th>\n",
       "      <th>31</th>\n",
       "      <th>32</th>\n",
       "      <th>33</th>\n",
       "      <th>34</th>\n",
       "      <th>35</th>\n",
       "      <th>36</th>\n",
       "      <th>37</th>\n",
       "      <th>38</th>\n",
       "      <th>39</th>\n",
       "    </tr>\n",
       "  </thead>\n",
       "  <tbody>\n",
       "    <tr>\n",
       "      <td>0</td>\n",
       "      <td>59</td>\n",
       "      <td>15</td>\n",
       "      <td>215</td>\n",
       "      <td>98</td>\n",
       "      <td>289</td>\n",
       "      <td>101</td>\n",
       "      <td>312</td>\n",
       "      <td>147</td>\n",
       "      <td>136</td>\n",
       "      <td>155</td>\n",
       "      <td>...</td>\n",
       "      <td>359</td>\n",
       "      <td>310</td>\n",
       "      <td>238</td>\n",
       "      <td>196</td>\n",
       "      <td>69</td>\n",
       "      <td>36</td>\n",
       "      <td>255</td>\n",
       "      <td>329</td>\n",
       "      <td>256</td>\n",
       "      <td>15</td>\n",
       "    </tr>\n",
       "    <tr>\n",
       "      <td>1</td>\n",
       "      <td>82</td>\n",
       "      <td>29</td>\n",
       "      <td>163</td>\n",
       "      <td>253</td>\n",
       "      <td>154</td>\n",
       "      <td>78</td>\n",
       "      <td>204</td>\n",
       "      <td>107</td>\n",
       "      <td>186</td>\n",
       "      <td>298</td>\n",
       "      <td>...</td>\n",
       "      <td>33</td>\n",
       "      <td>240</td>\n",
       "      <td>114</td>\n",
       "      <td>29</td>\n",
       "      <td>8</td>\n",
       "      <td>16</td>\n",
       "      <td>205</td>\n",
       "      <td>23</td>\n",
       "      <td>184</td>\n",
       "      <td>216</td>\n",
       "    </tr>\n",
       "    <tr>\n",
       "      <td>2</td>\n",
       "      <td>179</td>\n",
       "      <td>147</td>\n",
       "      <td>208</td>\n",
       "      <td>161</td>\n",
       "      <td>141</td>\n",
       "      <td>146</td>\n",
       "      <td>194</td>\n",
       "      <td>177</td>\n",
       "      <td>326</td>\n",
       "      <td>10</td>\n",
       "      <td>...</td>\n",
       "      <td>268</td>\n",
       "      <td>361</td>\n",
       "      <td>58</td>\n",
       "      <td>260</td>\n",
       "      <td>210</td>\n",
       "      <td>163</td>\n",
       "      <td>32</td>\n",
       "      <td>55</td>\n",
       "      <td>283</td>\n",
       "      <td>8</td>\n",
       "    </tr>\n",
       "    <tr>\n",
       "      <td>3</td>\n",
       "      <td>272</td>\n",
       "      <td>277</td>\n",
       "      <td>277</td>\n",
       "      <td>55</td>\n",
       "      <td>41</td>\n",
       "      <td>197</td>\n",
       "      <td>236</td>\n",
       "      <td>108</td>\n",
       "      <td>172</td>\n",
       "      <td>356</td>\n",
       "      <td>...</td>\n",
       "      <td>321</td>\n",
       "      <td>227</td>\n",
       "      <td>178</td>\n",
       "      <td>15</td>\n",
       "      <td>285</td>\n",
       "      <td>238</td>\n",
       "      <td>283</td>\n",
       "      <td>54</td>\n",
       "      <td>127</td>\n",
       "      <td>137</td>\n",
       "    </tr>\n",
       "    <tr>\n",
       "      <td>4</td>\n",
       "      <td>15</td>\n",
       "      <td>149</td>\n",
       "      <td>38</td>\n",
       "      <td>259</td>\n",
       "      <td>198</td>\n",
       "      <td>276</td>\n",
       "      <td>235</td>\n",
       "      <td>0</td>\n",
       "      <td>265</td>\n",
       "      <td>65</td>\n",
       "      <td>...</td>\n",
       "      <td>192</td>\n",
       "      <td>195</td>\n",
       "      <td>99</td>\n",
       "      <td>134</td>\n",
       "      <td>338</td>\n",
       "      <td>200</td>\n",
       "      <td>55</td>\n",
       "      <td>320</td>\n",
       "      <td>335</td>\n",
       "      <td>268</td>\n",
       "    </tr>\n",
       "    <tr>\n",
       "      <td>...</td>\n",
       "      <td>...</td>\n",
       "      <td>...</td>\n",
       "      <td>...</td>\n",
       "      <td>...</td>\n",
       "      <td>...</td>\n",
       "      <td>...</td>\n",
       "      <td>...</td>\n",
       "      <td>...</td>\n",
       "      <td>...</td>\n",
       "      <td>...</td>\n",
       "      <td>...</td>\n",
       "      <td>...</td>\n",
       "      <td>...</td>\n",
       "      <td>...</td>\n",
       "      <td>...</td>\n",
       "      <td>...</td>\n",
       "      <td>...</td>\n",
       "      <td>...</td>\n",
       "      <td>...</td>\n",
       "      <td>...</td>\n",
       "      <td>...</td>\n",
       "    </tr>\n",
       "    <tr>\n",
       "      <td>9995</td>\n",
       "      <td>260</td>\n",
       "      <td>89</td>\n",
       "      <td>348</td>\n",
       "      <td>157</td>\n",
       "      <td>105</td>\n",
       "      <td>342</td>\n",
       "      <td>353</td>\n",
       "      <td>146</td>\n",
       "      <td>307</td>\n",
       "      <td>115</td>\n",
       "      <td>...</td>\n",
       "      <td>258</td>\n",
       "      <td>292</td>\n",
       "      <td>147</td>\n",
       "      <td>132</td>\n",
       "      <td>13</td>\n",
       "      <td>330</td>\n",
       "      <td>156</td>\n",
       "      <td>77</td>\n",
       "      <td>227</td>\n",
       "      <td>19</td>\n",
       "    </tr>\n",
       "    <tr>\n",
       "      <td>9996</td>\n",
       "      <td>16</td>\n",
       "      <td>260</td>\n",
       "      <td>98</td>\n",
       "      <td>98</td>\n",
       "      <td>22</td>\n",
       "      <td>64</td>\n",
       "      <td>192</td>\n",
       "      <td>55</td>\n",
       "      <td>185</td>\n",
       "      <td>4</td>\n",
       "      <td>...</td>\n",
       "      <td>108</td>\n",
       "      <td>266</td>\n",
       "      <td>103</td>\n",
       "      <td>343</td>\n",
       "      <td>294</td>\n",
       "      <td>306</td>\n",
       "      <td>242</td>\n",
       "      <td>250</td>\n",
       "      <td>54</td>\n",
       "      <td>270</td>\n",
       "    </tr>\n",
       "    <tr>\n",
       "      <td>9997</td>\n",
       "      <td>22</td>\n",
       "      <td>347</td>\n",
       "      <td>159</td>\n",
       "      <td>81</td>\n",
       "      <td>51</td>\n",
       "      <td>269</td>\n",
       "      <td>363</td>\n",
       "      <td>362</td>\n",
       "      <td>350</td>\n",
       "      <td>106</td>\n",
       "      <td>...</td>\n",
       "      <td>13</td>\n",
       "      <td>346</td>\n",
       "      <td>144</td>\n",
       "      <td>217</td>\n",
       "      <td>248</td>\n",
       "      <td>273</td>\n",
       "      <td>239</td>\n",
       "      <td>261</td>\n",
       "      <td>25</td>\n",
       "      <td>238</td>\n",
       "    </tr>\n",
       "    <tr>\n",
       "      <td>9998</td>\n",
       "      <td>331</td>\n",
       "      <td>131</td>\n",
       "      <td>24</td>\n",
       "      <td>140</td>\n",
       "      <td>17</td>\n",
       "      <td>355</td>\n",
       "      <td>297</td>\n",
       "      <td>119</td>\n",
       "      <td>326</td>\n",
       "      <td>81</td>\n",
       "      <td>...</td>\n",
       "      <td>199</td>\n",
       "      <td>161</td>\n",
       "      <td>18</td>\n",
       "      <td>164</td>\n",
       "      <td>72</td>\n",
       "      <td>42</td>\n",
       "      <td>72</td>\n",
       "      <td>87</td>\n",
       "      <td>183</td>\n",
       "      <td>54</td>\n",
       "    </tr>\n",
       "    <tr>\n",
       "      <td>9999</td>\n",
       "      <td>35</td>\n",
       "      <td>75</td>\n",
       "      <td>292</td>\n",
       "      <td>217</td>\n",
       "      <td>336</td>\n",
       "      <td>7</td>\n",
       "      <td>108</td>\n",
       "      <td>288</td>\n",
       "      <td>153</td>\n",
       "      <td>160</td>\n",
       "      <td>...</td>\n",
       "      <td>298</td>\n",
       "      <td>219</td>\n",
       "      <td>68</td>\n",
       "      <td>349</td>\n",
       "      <td>47</td>\n",
       "      <td>48</td>\n",
       "      <td>13</td>\n",
       "      <td>145</td>\n",
       "      <td>114</td>\n",
       "      <td>282</td>\n",
       "    </tr>\n",
       "  </tbody>\n",
       "</table>\n",
       "<p>10000 rows × 40 columns</p>\n",
       "</div>"
      ],
      "text/plain": [
       "       0    1    2    3    4    5    6    7    8    9   ...   30   31   32  \\\n",
       "0      59   15  215   98  289  101  312  147  136  155  ...  359  310  238   \n",
       "1      82   29  163  253  154   78  204  107  186  298  ...   33  240  114   \n",
       "2     179  147  208  161  141  146  194  177  326   10  ...  268  361   58   \n",
       "3     272  277  277   55   41  197  236  108  172  356  ...  321  227  178   \n",
       "4      15  149   38  259  198  276  235    0  265   65  ...  192  195   99   \n",
       "...   ...  ...  ...  ...  ...  ...  ...  ...  ...  ...  ...  ...  ...  ...   \n",
       "9995  260   89  348  157  105  342  353  146  307  115  ...  258  292  147   \n",
       "9996   16  260   98   98   22   64  192   55  185    4  ...  108  266  103   \n",
       "9997   22  347  159   81   51  269  363  362  350  106  ...   13  346  144   \n",
       "9998  331  131   24  140   17  355  297  119  326   81  ...  199  161   18   \n",
       "9999   35   75  292  217  336    7  108  288  153  160  ...  298  219   68   \n",
       "\n",
       "       33   34   35   36   37   38   39  \n",
       "0     196   69   36  255  329  256   15  \n",
       "1      29    8   16  205   23  184  216  \n",
       "2     260  210  163   32   55  283    8  \n",
       "3      15  285  238  283   54  127  137  \n",
       "4     134  338  200   55  320  335  268  \n",
       "...   ...  ...  ...  ...  ...  ...  ...  \n",
       "9995  132   13  330  156   77  227   19  \n",
       "9996  343  294  306  242  250   54  270  \n",
       "9997  217  248  273  239  261   25  238  \n",
       "9998  164   72   42   72   87  183   54  \n",
       "9999  349   47   48   13  145  114  282  \n",
       "\n",
       "[10000 rows x 40 columns]"
      ]
     },
     "execution_count": 171,
     "metadata": {},
     "output_type": "execute_result"
    }
   ],
   "source": [
    "random_40 = pd.DataFrame(random_40_birthdays)\n",
    "random_40"
   ]
  },
  {
   "cell_type": "code",
   "execution_count": 172,
   "metadata": {},
   "outputs": [
    {
     "data": {
      "text/plain": [
       "0.8945"
      ]
     },
     "execution_count": 172,
     "metadata": {},
     "output_type": "execute_result"
    }
   ],
   "source": [
    "shared_birthdays_40 = random_40.apply(lambda x: len(set(x)) != len(x), axis=1).mean()\n",
    "shared_birthdays_40"
   ]
  },
  {
   "cell_type": "code",
   "execution_count": 5,
   "metadata": {},
   "outputs": [
    {
     "data": {
      "text/plain": [
       "array([[2, 1, 3, 3, 1, 4]])"
      ]
     },
     "execution_count": 5,
     "metadata": {},
     "output_type": "execute_result"
    }
   ],
   "source": [
    "mage_1_health = np.random.choice([1,2,3,4], size=(1, 6))\n",
    "mage_1_health"
   ]
  },
  {
   "cell_type": "code",
   "execution_count": null,
   "metadata": {},
   "outputs": [],
   "source": []
  }
 ],
 "metadata": {
  "kernelspec": {
   "display_name": "Python 3",
   "language": "python",
   "name": "python3"
  },
  "language_info": {
   "codemirror_mode": {
    "name": "ipython",
    "version": 3
   },
   "file_extension": ".py",
   "mimetype": "text/x-python",
   "name": "python",
   "nbconvert_exporter": "python",
   "pygments_lexer": "ipython3",
   "version": "3.7.4"
  }
 },
 "nbformat": 4,
 "nbformat_minor": 2
}
