{
 "cells": [
  {
   "cell_type": "code",
   "execution_count": 2,
   "metadata": {},
   "outputs": [],
   "source": [
    "import numpy as np\n",
    "import pandas as pd"
   ]
  },
  {
   "cell_type": "code",
   "execution_count": 24,
   "metadata": {},
   "outputs": [
    {
     "data": {
      "text/html": [
       "<div>\n",
       "<style scoped>\n",
       "    .dataframe tbody tr th:only-of-type {\n",
       "        vertical-align: middle;\n",
       "    }\n",
       "\n",
       "    .dataframe tbody tr th {\n",
       "        vertical-align: top;\n",
       "    }\n",
       "\n",
       "    .dataframe thead th {\n",
       "        text-align: right;\n",
       "    }\n",
       "</style>\n",
       "<table border=\"1\" class=\"dataframe\">\n",
       "  <thead>\n",
       "    <tr style=\"text-align: right;\">\n",
       "      <th></th>\n",
       "      <th>first_d6</th>\n",
       "      <th>second_d6</th>\n",
       "      <th>third_d6</th>\n",
       "      <th>fourth_d6</th>\n",
       "      <th>Total_HP</th>\n",
       "    </tr>\n",
       "  </thead>\n",
       "  <tbody>\n",
       "    <tr>\n",
       "      <td>0</td>\n",
       "      <td>2</td>\n",
       "      <td>5</td>\n",
       "      <td>4</td>\n",
       "      <td>6</td>\n",
       "      <td>17</td>\n",
       "    </tr>\n",
       "  </tbody>\n",
       "</table>\n",
       "</div>"
      ],
      "text/plain": [
       "   first_d6  second_d6  third_d6  fourth_d6  Total_HP\n",
       "0         2          5         4          6        17"
      ]
     },
     "execution_count": 24,
     "metadata": {},
     "output_type": "execute_result"
    }
   ],
   "source": [
    "mage_1 = pd.DataFrame(np.random.randint(1, 7, (1, 4)))\n",
    "mage_1.columns=[\"first_d6\", \"second_d6\", \"third_d6\", \"fourth_d6\"]\n",
    "mage_1[\"Total_HP\"] = mage_1[\"first_d6\"] + mage_1[\"second_d6\"] + mage_1[\"third_d6\"] + mage_1[\"fourth_d6\"]\n",
    "mage_1"
   ]
  },
  {
   "cell_type": "code",
   "execution_count": 41,
   "metadata": {},
   "outputs": [
    {
     "data": {
      "text/html": [
       "<div>\n",
       "<style scoped>\n",
       "    .dataframe tbody tr th:only-of-type {\n",
       "        vertical-align: middle;\n",
       "    }\n",
       "\n",
       "    .dataframe tbody tr th {\n",
       "        vertical-align: top;\n",
       "    }\n",
       "\n",
       "    .dataframe thead th {\n",
       "        text-align: right;\n",
       "    }\n",
       "</style>\n",
       "<table border=\"1\" class=\"dataframe\">\n",
       "  <thead>\n",
       "    <tr style=\"text-align: right;\">\n",
       "      <th></th>\n",
       "      <th>first_d6</th>\n",
       "      <th>second_d6</th>\n",
       "      <th>third_d6</th>\n",
       "      <th>fourth_d6</th>\n",
       "      <th>Total_HP</th>\n",
       "    </tr>\n",
       "  </thead>\n",
       "  <tbody>\n",
       "    <tr>\n",
       "      <td>0</td>\n",
       "      <td>2</td>\n",
       "      <td>6</td>\n",
       "      <td>4</td>\n",
       "      <td>6</td>\n",
       "      <td>18</td>\n",
       "    </tr>\n",
       "  </tbody>\n",
       "</table>\n",
       "</div>"
      ],
      "text/plain": [
       "   first_d6  second_d6  third_d6  fourth_d6  Total_HP\n",
       "0         2          6         4          6        18"
      ]
     },
     "execution_count": 41,
     "metadata": {},
     "output_type": "execute_result"
    }
   ],
   "source": [
    "mage_2 = pd.DataFrame(np.random.randint(1, 7, (1, 4)))\n",
    "mage_2.columns=[\"first_d6\", \"second_d6\", \"third_d6\", \"fourth_d6\"]\n",
    "mage_2[\"Total_HP\"] = mage_2[\"first_d6\"] + mage_2[\"second_d6\"] + mage_2[\"third_d6\"] + mage_2[\"fourth_d6\"]\n",
    "mage_2"
   ]
  },
  {
   "cell_type": "code",
   "execution_count": 22,
   "metadata": {},
   "outputs": [
    {
     "data": {
      "text/html": [
       "<div>\n",
       "<style scoped>\n",
       "    .dataframe tbody tr th:only-of-type {\n",
       "        vertical-align: middle;\n",
       "    }\n",
       "\n",
       "    .dataframe tbody tr th {\n",
       "        vertical-align: top;\n",
       "    }\n",
       "\n",
       "    .dataframe thead th {\n",
       "        text-align: right;\n",
       "    }\n",
       "</style>\n",
       "<table border=\"1\" class=\"dataframe\">\n",
       "  <thead>\n",
       "    <tr style=\"text-align: right;\">\n",
       "      <th></th>\n",
       "      <th>first_d6</th>\n",
       "      <th>second_d6</th>\n",
       "      <th>third_d6</th>\n",
       "      <th>fourth_d6</th>\n",
       "      <th>Total_Hit</th>\n",
       "    </tr>\n",
       "  </thead>\n",
       "  <tbody>\n",
       "    <tr>\n",
       "      <td>0</td>\n",
       "      <td>4</td>\n",
       "      <td>6</td>\n",
       "      <td>5</td>\n",
       "      <td>3</td>\n",
       "      <td>18</td>\n",
       "    </tr>\n",
       "    <tr>\n",
       "      <td>1</td>\n",
       "      <td>4</td>\n",
       "      <td>1</td>\n",
       "      <td>6</td>\n",
       "      <td>1</td>\n",
       "      <td>12</td>\n",
       "    </tr>\n",
       "    <tr>\n",
       "      <td>2</td>\n",
       "      <td>3</td>\n",
       "      <td>2</td>\n",
       "      <td>3</td>\n",
       "      <td>5</td>\n",
       "      <td>13</td>\n",
       "    </tr>\n",
       "    <tr>\n",
       "      <td>3</td>\n",
       "      <td>1</td>\n",
       "      <td>6</td>\n",
       "      <td>5</td>\n",
       "      <td>5</td>\n",
       "      <td>17</td>\n",
       "    </tr>\n",
       "  </tbody>\n",
       "</table>\n",
       "</div>"
      ],
      "text/plain": [
       "   first_d6  second_d6  third_d6  fourth_d6  Total_Hit\n",
       "0         4          6         5          3         18\n",
       "1         4          1         6          1         12\n",
       "2         3          2         3          5         13\n",
       "3         1          6         5          5         17"
      ]
     },
     "execution_count": 22,
     "metadata": {},
     "output_type": "execute_result"
    }
   ],
   "source": [
    "mage_1_attack = pd.DataFrame(np.random.randint(1, 7, (4, 4)))\n",
    "mage_1_attack.columns=[\"first_d6\", \"second_d6\", \"third_d6\", \"fourth_d6\"]\n",
    "mage_1_attack[\"Total_Hit\"] = mage_1_attack[\"first_d6\"] + mage_1_attack[\"second_d6\"] + mage_1_attack[\"third_d6\"] + mage_1_attack[\"fourth_d6\"]\n",
    "mage_1_attack"
   ]
  },
  {
   "cell_type": "code",
   "execution_count": 26,
   "metadata": {},
   "outputs": [
    {
     "data": {
      "text/html": [
       "<div>\n",
       "<style scoped>\n",
       "    .dataframe tbody tr th:only-of-type {\n",
       "        vertical-align: middle;\n",
       "    }\n",
       "\n",
       "    .dataframe tbody tr th {\n",
       "        vertical-align: top;\n",
       "    }\n",
       "\n",
       "    .dataframe thead th {\n",
       "        text-align: right;\n",
       "    }\n",
       "</style>\n",
       "<table border=\"1\" class=\"dataframe\">\n",
       "  <thead>\n",
       "    <tr style=\"text-align: right;\">\n",
       "      <th></th>\n",
       "      <th>first_d6</th>\n",
       "      <th>second_d6</th>\n",
       "      <th>third_d6</th>\n",
       "      <th>fourth_d6</th>\n",
       "      <th>Total_Hit</th>\n",
       "    </tr>\n",
       "  </thead>\n",
       "  <tbody>\n",
       "    <tr>\n",
       "      <td>0</td>\n",
       "      <td>1</td>\n",
       "      <td>4</td>\n",
       "      <td>1</td>\n",
       "      <td>3</td>\n",
       "      <td>9</td>\n",
       "    </tr>\n",
       "    <tr>\n",
       "      <td>1</td>\n",
       "      <td>3</td>\n",
       "      <td>5</td>\n",
       "      <td>1</td>\n",
       "      <td>2</td>\n",
       "      <td>11</td>\n",
       "    </tr>\n",
       "    <tr>\n",
       "      <td>2</td>\n",
       "      <td>1</td>\n",
       "      <td>6</td>\n",
       "      <td>4</td>\n",
       "      <td>6</td>\n",
       "      <td>17</td>\n",
       "    </tr>\n",
       "    <tr>\n",
       "      <td>3</td>\n",
       "      <td>2</td>\n",
       "      <td>6</td>\n",
       "      <td>5</td>\n",
       "      <td>4</td>\n",
       "      <td>17</td>\n",
       "    </tr>\n",
       "  </tbody>\n",
       "</table>\n",
       "</div>"
      ],
      "text/plain": [
       "   first_d6  second_d6  third_d6  fourth_d6  Total_Hit\n",
       "0         1          4         1          3          9\n",
       "1         3          5         1          2         11\n",
       "2         1          6         4          6         17\n",
       "3         2          6         5          4         17"
      ]
     },
     "execution_count": 26,
     "metadata": {},
     "output_type": "execute_result"
    }
   ],
   "source": [
    "mage_2_attack = pd.DataFrame(np.random.randint(1, 7, (4, 4)))\n",
    "mage_2_attack.columns=[\"first_d6\", \"second_d6\", \"third_d6\", \"fourth_d6\"]\n",
    "mage_2_attack[\"Total_Hit\"] = mage_2_attack[\"first_d6\"] + mage_2_attack[\"second_d6\"] + mage_2_attack[\"third_d6\"] + mage_2_attack[\"fourth_d6\"]\n",
    "mage_2_attack"
   ]
  },
  {
   "cell_type": "code",
   "execution_count": 42,
   "metadata": {},
   "outputs": [],
   "source": [
    "mage_2[\"Total_HP\"] = mage_1_attack.Total_Hit[0] - mage_2.Total_HP"
   ]
  },
  {
   "cell_type": "code",
   "execution_count": 43,
   "metadata": {},
   "outputs": [
    {
     "data": {
      "text/html": [
       "<div>\n",
       "<style scoped>\n",
       "    .dataframe tbody tr th:only-of-type {\n",
       "        vertical-align: middle;\n",
       "    }\n",
       "\n",
       "    .dataframe tbody tr th {\n",
       "        vertical-align: top;\n",
       "    }\n",
       "\n",
       "    .dataframe thead th {\n",
       "        text-align: right;\n",
       "    }\n",
       "</style>\n",
       "<table border=\"1\" class=\"dataframe\">\n",
       "  <thead>\n",
       "    <tr style=\"text-align: right;\">\n",
       "      <th></th>\n",
       "      <th>first_d6</th>\n",
       "      <th>second_d6</th>\n",
       "      <th>third_d6</th>\n",
       "      <th>fourth_d6</th>\n",
       "      <th>Total_HP</th>\n",
       "    </tr>\n",
       "  </thead>\n",
       "  <tbody>\n",
       "    <tr>\n",
       "      <td>0</td>\n",
       "      <td>2</td>\n",
       "      <td>6</td>\n",
       "      <td>4</td>\n",
       "      <td>6</td>\n",
       "      <td>0</td>\n",
       "    </tr>\n",
       "  </tbody>\n",
       "</table>\n",
       "</div>"
      ],
      "text/plain": [
       "   first_d6  second_d6  third_d6  fourth_d6  Total_HP\n",
       "0         2          6         4          6         0"
      ]
     },
     "execution_count": 43,
     "metadata": {},
     "output_type": "execute_result"
    }
   ],
   "source": [
    "mage_2"
   ]
  },
  {
   "cell_type": "code",
   "execution_count": 40,
   "metadata": {},
   "outputs": [
    {
     "data": {
      "text/plain": [
       "0   -10\n",
       "Name: Total_HP, dtype: int64"
      ]
     },
     "execution_count": 40,
     "metadata": {},
     "output_type": "execute_result"
    }
   ],
   "source": [
    "mage_2.Total_HP - mage_1_attack.Total_Hit[1]"
   ]
  },
  {
   "cell_type": "code",
   "execution_count": null,
   "metadata": {},
   "outputs": [],
   "source": [
    "n = 1\n",
    "r = 10001\n",
    "\n",
    "mage1_win_count = 0\n",
    "mage2_win_count = 0\n",
    "draws = 0\n",
    "\n",
    "for i in range(n, r):\n",
    "    mage1hp = np.random.choice(range(1,7), size = (1,4)).sum()\n",
    "    mage2hp = np.random.choice(range(1,5), size = (1,6)).sum()\n",
    "    winner = 'none'\n",
    "    #print(f'mage1hp = {mage1hp}')\n",
    "    #print(f'mage2hp = {mage2hp}')\n",
    "    while mage2hp>0 and mage1hp > 0:\n",
    "        mage1at = np.random.choice(range(1,7), size = (1,4))\n",
    "        mage2at = np.random.choice(range(1,5), size = (1,6))\n",
    "        mage1hp = mage1hp - mage2at.sum()\n",
    "        mage2hp = mage2hp - mage1at.sum()\n",
    "      \n",
    "        if mage1hp <= 0 and mage2hp > 0:\n",
    "            winner = 'mage2'\n",
    "            mage1_win_count += 1\n",
    "            #print(winner)\n",
    "            break\n",
    "        elif mage2hp <= 0 and mage1hp > 0:\n",
    "            winner = 'mage1'\n",
    "            mage2_win_count += 1\n",
    "            #print(winner)\n",
    "            break\n",
    "        elif mage1hp <= 0 and mage2hp <= 0:\n",
    "            winner = 'draw'\n",
    "            draws = draws + 1\n",
    "            #print(winner)\n",
    "            break\n",
    "    i = i + 1\n",
    "\n",
    "print(f'mage1_winner_count = {mage1_win_count/r}')\n",
    "print(f'mage2_winner_count = {mage2_win_count/r}')\n",
    "print(f'draws = {draws/r}')"
   ]
  }
 ],
 "metadata": {
  "kernelspec": {
   "display_name": "Python 3",
   "language": "python",
   "name": "python3"
  },
  "language_info": {
   "codemirror_mode": {
    "name": "ipython",
    "version": 3
   },
   "file_extension": ".py",
   "mimetype": "text/x-python",
   "name": "python",
   "nbconvert_exporter": "python",
   "pygments_lexer": "ipython3",
   "version": "3.7.4"
  }
 },
 "nbformat": 4,
 "nbformat_minor": 2
}
