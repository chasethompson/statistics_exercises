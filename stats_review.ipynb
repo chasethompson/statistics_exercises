{
 "cells": [
  {
   "cell_type": "code",
   "execution_count": 1,
   "metadata": {},
   "outputs": [],
   "source": [
    "import pandas as pd\n",
    "import numpy as np\n",
    "\n",
    "import matplotlib.pyplot as plt\n",
    "%matplotlib inline\n",
    "import seaborn as sns\n",
    "\n",
    "from math import sqrt\n",
    "from scipy import stats\n",
    "\n",
    "from pydataset import data\n",
    "\n",
    "from env import host, user, password"
   ]
  },
  {
   "cell_type": "markdown",
   "metadata": {},
   "source": [
    "# 1  Statistical Distributions - Quick Look\n",
    "\n",
    "### **Uniform Distribution**\n",
    "\n",
    "- allows us to model events where the outcome is discrete, and each outcome has an equally likely chance of occurring.\n",
    "\n",
    "### *What You Need*\n",
    "\n",
    "Finite number of outcomes equally likely to happen.\n",
    "\n",
    "### *So what?*\n",
    "\n",
    "Allows you to construct a random variable that has an equal opportunity of being any one of the integers in the range you establish using the start (inclusive) and stop (exclusive) below.\n",
    "\n",
    "### *Now What?*"
   ]
  },
  {
   "cell_type": "markdown",
   "metadata": {},
   "source": [
    "`stats.randint(start, stop)`"
   ]
  },
  {
   "cell_type": "markdown",
   "metadata": {},
   "source": [
    "### Binomial Distribution \n",
    "\n",
    "- allows us to model the number of successes after a number of trials, given a certain probability of success. This distribution assumes that each trial is independent. Discrete, upper bound by # of events\n",
    "\n",
    "### *What You Need*\n",
    "\n",
    "n = trials\n",
    "\n",
    "p = p(success)\n",
    "\n",
    "### *So what?*\n",
    "\n",
    "returns the likelihood of successes\n",
    "\n",
    "### *Now What?*\n",
    "\n",
    "`stats.binom(n, p)`"
   ]
  },
  {
   "cell_type": "markdown",
   "metadata": {},
   "source": [
    "### Normal Distribution \n",
    "\n",
    "- allows us to model a continuous random variable where the further away from the mean you are, the less likely the outcome.\n",
    "\n",
    "### *What You Need*\n",
    "\n",
    "mean\n",
    "\n",
    "standard deviation\n",
    "\n",
    "### *So what?*\n",
    "\n",
    "The Standard Normal Distribution is a normal distribution with a mean of 0 and a standard deviation of 1.\n",
    "\n",
    "### *Now What?*\n",
    "\n",
    "`stats.norm(mean, standard deviation)`"
   ]
  },
  {
   "cell_type": "markdown",
   "metadata": {},
   "source": [
    "### Poisson Distribution\n",
    "- allows us to model a situation where a certain number of events happen over a specified time interval. This distribution assumes that the events are independent of each other. Continuous, not upper bound. Can go off into ∞\n",
    " \n",
    "### *What You Need*\n",
    "\n",
    "average rate\n",
    "\n",
    "### *So what?*\n",
    "\n",
    "Returns the number of events that can be classified as successes or failures.\n",
    "\n",
    "### *Now What?*\n",
    "\n",
    "`stats.poisson(average rate)`"
   ]
  },
  {
   "cell_type": "markdown",
   "metadata": {},
   "source": [
    "**PDF** (Probability Density Function) / **PMF** (Probability Mass Function) - The probability that your random variable takes on an **EXACT** value.\n",
    "\n",
    "`distribution.pdf(probability/continuous)`\n",
    "\n",
    "`distribution.pmf(value/discrete)`\n",
    "\n",
    "**CDF** (Cumulative Density Function) / **PPF** (Percent Point Function) - The probability that your random variable takes on a value **less than or equal to** a given point.\n",
    "\n",
    "`distribution.cdf(value/discrete)`\n",
    "\n",
    "`distribution.ppf(probability/continuous)`\n",
    "\n",
    "**SF** (Survival Function) / **ISF** (Inverse Survival Function) - The probability that your random variable takes on a value **greater than** a given point.\n",
    "\n",
    "`distribution.sf(value/discrete)`\n",
    "\n",
    "`distribution.isf(probability/continuous)`"
   ]
  },
  {
   "cell_type": "markdown",
   "metadata": {},
   "source": [
    "# 2 The Central Limit Theorem - Proof of Concept\n",
    "\n",
    "## What's so important about The Central Limit Theorem?\n",
    "\n",
    "If we repeatedly take random samples of the same size from a the same population, and compute the sample mean for each of the samples, the sampling distribution of the sample means will be a normal distribution no matter what the initial distribution of the population was.\n",
    "\n",
    "Even if our original population has a skewed distribution, our sampling distribution will be normal if we have a large enough sample!\n",
    "\n",
    "## *So what?!*\n",
    "\n",
    "In hypothesis testing, the assumption is that our data is from a normal distribution. In real life, our data is usually NOT normally distributed! (Think of the salaries in the Employees database or the home values in the Zillow database.)\n",
    "\n",
    "## *Now What?*\n",
    "\n",
    "The Central Limit Theorem and an appropriate sample size allow us to get around the problems of skewed, real-world data distributions, assume our sample data is normally distributed, and run our hypotheses tests."
   ]
  },
  {
   "cell_type": "code",
   "execution_count": 10,
   "metadata": {},
   "outputs": [],
   "source": [
    "n_dice_per_experiment = ncols = 10\n",
    "n_experiments = nrows = 100"
   ]
  },
  {
   "cell_type": "code",
   "execution_count": 18,
   "metadata": {},
   "outputs": [
    {
     "data": {
      "text/plain": [
       "array([[2, 6, 3, 2, 4, 6, 1, 2, 2, 4],\n",
       "       [6, 6, 2, 5, 2, 1, 2, 5, 2, 2],\n",
       "       [6, 1, 1, 1, 2, 4, 2, 4, 6, 2],\n",
       "       [3, 2, 3, 3, 1, 5, 4, 3, 6, 1]])"
      ]
     },
     "execution_count": 18,
     "metadata": {},
     "output_type": "execute_result"
    }
   ],
   "source": [
    "# Create 2-d array of random numbers between 1 and 6 to represent ten dice rolls for each column\n",
    "\n",
    "dataset = np.random.randint(1, 7, (nrows, ncols))\n",
    "\n",
    "dataset[:4]"
   ]
  },
  {
   "cell_type": "code",
   "execution_count": 19,
   "metadata": {},
   "outputs": [
    {
     "data": {
      "text/plain": [
       "array([3.2, 3.3, 2.9, 3.1, 2.8, 3.7, 3.1, 3.1, 4.5, 2.7, 4.3, 3.5, 3.8,\n",
       "       2.6, 4.5, 3. , 3.5, 2.9, 3. , 3.4, 3.7, 2.8, 3.7, 3.5, 4.6, 4.2,\n",
       "       3.6, 2.3, 4.2, 4.1, 4.4, 3.1, 4.2, 4.1, 3.7, 3.1, 3.7, 2.8, 3.7,\n",
       "       3.8, 2.7, 4.1, 2.8, 3.1, 3.7, 3.3, 2.3, 3.8, 4.2, 3.9, 4. , 4.1,\n",
       "       3. , 4.2, 3.8, 2.7, 4.4, 3.8, 3.1, 2.7, 2.6, 4. , 3.1, 4.2, 3.7,\n",
       "       3.2, 4.2, 3.1, 3.7, 3.4, 3.7, 4.4, 4.1, 3.4, 2.8, 3. , 3.2, 4.3,\n",
       "       3.2, 2.9, 4. , 3.7, 3.6, 2.9, 3.8, 3.8, 3.6, 3.5, 4.5, 3.7, 2. ,\n",
       "       2.7, 3.8, 4.1, 3.6, 3.3, 3.4, 4.6, 3.3, 3.7])"
      ]
     },
     "execution_count": 19,
     "metadata": {},
     "output_type": "execute_result"
    }
   ],
   "source": [
    "# Calculate the average for each set of 10 dice rolls\n",
    "\n",
    "calculated_averages = dataset.mean(axis=1)\n",
    "calculated_averages"
   ]
  },
  {
   "cell_type": "code",
   "execution_count": 20,
   "metadata": {},
   "outputs": [
    {
     "data": {
      "image/png": "[encoded data removed]",
      "text/plain": [
       "<Figure size 432x288 with 1 Axes>"
      ]
     },
     "metadata": {
      "needs_background": "light"
     },
     "output_type": "display_data"
    }
   ],
   "source": [
    "# Visualize the distribution of the 100 oberservations of 10 dice rolls\n",
    "\n",
    "plt.hist(calculated_averages)\n",
    "plt.xlabel(f'Average of {n_dice_per_experiment} dice rolls')\n",
    "plt.ylabel('# of Occurances')\n",
    "plt.title(f'Outcome of averaging {n_dice_per_experiment} dice rolls {n_experiments} times')\n",
    "plt.show()"
   ]
  },
  {
   "cell_type": "markdown",
   "metadata": {},
   "source": [
    "3  Hypothesis Testing - Overview\n",
    "What is Hypothesis Testing?\n",
    "We use hypothesis tests to draw conclusions, answer questions, or interpret beliefs we have about a population using sample data.\n",
    "A hypothesis test evaluates two mutually exclusive statements about a population and informs us which statement is best supported by our sample data.\n",
    "𝐻0\n",
    "H\n",
    "0\n",
    " : There is no difference between smokers' tips and the overall population's tip average.\n",
    "𝐻𝑎\n",
    "H\n",
    "a\n",
    " : There is a difference between smokers' tips and the overall population's tip average.\n",
    "So what?!\n",
    "There are two possible outcomes; if the result confirms the hypothesis, then you've made a measurement. If the result is contrary to the hypothesis, then you've made a discovery - Enrico Fermi\n",
    "Now What?\n",
    "Set up a hypothesis.\n",
    "Calculate a test statistic.\n",
    "Find a p-value from the test statistic.\n",
    "Reject or fail to reject your Null hypothesis\n",
    "\n",
    "# 3 Hypothesis Testing - Overview\n",
    "\n",
    "## What is Hypothesis Testing?\n",
    "\n",
    "We use hypothesis testing to draw conclusions, answer questions, or interpret beliefs we have about a population using sample data.\n",
    "\n",
    "A hypothesis test evaluates two mutually exclusive statements about a population and informs us which statement is best supported by our sample data.\n",
    "\n",
    "> - $H_0$: There is no difference between smokers' tips and the overall population's tip average.\n",
    " \n",
    "> - $H_a$: There is a difference between smokers tips and the overall population's tip average.\n",
    " \n",
    " ## *So what?!*\n",
    " \n",
    "*There are two possible outcomes; if the result confirms the hypothesis, then you've made a measurement. If the result is contrary to the hypothesis, then you've made a discovery - Enrico Fermi*\n",
    "\n",
    "## *Now what?!*\n",
    "\n",
    "> 1. Setup a hypothesis.\n",
    "1. Calculate a test statistic.\n",
    "1. Find a p-value from the test statistic.\n",
    "1. Reject or fail to reject your Null hypothesis."
   ]
  },
  {
   "cell_type": "markdown",
   "metadata": {},
   "source": [
    "## 3.1 Hypothesis Testing Errors\n",
    "\n",
    "## *What is a Type I Error == False Positive?*\n",
    "\n",
    "- We predict there is a difference when in reality there is no difference\n",
    "\n",
    "- We reject the null hypothesis when the null hypothesis is actually True\n",
    "\n",
    "## *So what?!*\n",
    "\n",
    "If we are trying to determine whether a customer will churn, and our model predicts that they will churn (positive for churn), but they do not end up chuurning (False prediction), this is a False Positive. We have wasted time and money trying to woo a customer who was not going to leave us.\n",
    "\n",
    "## * What is a Type II Error == False Negative?*\n",
    "\n",
    "- We predict that there is no difference when in reality there is a difference\n",
    "\n",
    "- We fail to reject the null hypothesis when the null hypothesis is actually False\n",
    "\n",
    "## *So what?!*\n",
    "\n",
    "If we are trying to determine whether a customer will churn, and our model predicts that they will not churn (negative for churn), but they end up churning (False Prediction), this is a False Negative. We lost the opportunity to woo a customer that was going to leave us before they left.\n",
    "\n",
    "## *Now what?!*\n",
    "\n",
    "If we have a classification model that predicts customer churn, we can decide how to balance our Type I and Type II Errors to have a model that suits our needs."
   ]
  },
  {
   "cell_type": "markdown",
   "metadata": {},
   "source": [
    "# 4. T-Test - Continuous vs. Categorical Variables\n",
    "\n",
    "## *What is a T-Test?!*\n",
    "\n",
    "- A type of inferential statistic used to determine if there is a significant difference between the means of two groups which may be related in certain features\n",
    "\n",
    "- It compares a categorical and a continuos variable by comparing the mean of the continuos variable by subgroups or the mean of a subgroup to the mean of the population\n",
    "\n",
    "## *So what?!*\n",
    "\n",
    "We can ask questions like:\n",
    "\n",
    "- **One Sample T-Test** is when we compare the mean for a subgroup to the population mean.\n",
    "> Are sales for group A higher when we run a promotion?\n",
    "\n",
    "- **Two Sample T-Test** is when we compare the mean of one sub group to the mean of another subgroup.\n",
    "> Do customers who recieve a promotion spend more money than those who don't?\n",
    "\n",
    "## *Now what?!*\n",
    "\n",
    "- If your p-value is higher than your *alpha*, you fail to reject your null hypothesis.\n",
    "\n",
    "- If your p-value is lower than your *alpha*, you reject your null hypothesis.\n",
    "\n",
    "> **Types of T-Tests**:\n",
    "\n",
    "- **one-tailed test** looks for a specific difference: appropriate if you only want to determine if there is a difference between groups in a specific direction, positive only or negative only.\n",
    "- **two-tailed test looks** looks for any difference: appropriate if you want to test for the possibility of both positive or negative differences.\n",
    "- **one-sample t-test** compare the mean of a subgroup with the population mean.\n",
    "\n",
    "`scipy.stats.ttest_1samp(a, popmean)`\n",
    "\n",
    "a = array, list, Series\n",
    "\n",
    "popmean = single value\n",
    "\n",
    "- **two-sample t-test** compares the means of two subgroups.\n",
    "\n",
    "`scipy.stats.ttest_ind(a, b)`\n",
    "\n",
    "a = array, list, Series\n",
    "\n",
    "b = array, list, Series\n",
    "\n",
    "> **Important Terms**\n",
    "\n",
    "- **a confidence level** is the probability that if a poll/test/survey were repeated over and over again, the results obtained would be the same. It conveys how confident we are in our results. Raising your confidence level lowers your chances of Type I Errors, or False Positivews. (Common examples might be 90%, 95%, or 99%)\n",
    "\n",
    "- **alpha --> $a$** = 1 - confidence level. If your p-value is less than your $a$, which you set before you begin your test, then your test findings are significant. If it is close, it is at your discretion. Your results still may be significant even though slightly above your chosen cutoff. Also, alpha is the maximum probability that you have a Type I Error.\n",
    "> For a 95% confidence level, the value of alpha is .5 which means there is a 5% probability that you will reject a True null hypothesis or have a False Positive.\n",
    "- **t-statistic** is simply the calculated difference represented in units of standard error. The greater the magnitude of *t*, the greater the evidence against the null hypothesis. Why does it matter? **Short answer**, it allows us to calculate our p-value!\n",
    "- **p-values** are values we obtain from hypothesis testing. They represent the probability that our obtained result is due to chance given that our stated hypothesis is true."
   ]
  },
  {
   "cell_type": "code",
   "execution_count": 21,
   "metadata": {},
   "outputs": [],
   "source": [
    "df = data('tips')"
   ]
  },
  {
   "cell_type": "code",
   "execution_count": 22,
   "metadata": {},
   "outputs": [
    {
     "data": {
      "text/html": [
       "<div>\n",
       "<style scoped>\n",
       "    .dataframe tbody tr th:only-of-type {\n",
       "        vertical-align: middle;\n",
       "    }\n",
       "\n",
       "    .dataframe tbody tr th {\n",
       "        vertical-align: top;\n",
       "    }\n",
       "\n",
       "    .dataframe thead th {\n",
       "        text-align: right;\n",
       "    }\n",
       "</style>\n",
       "<table border=\"1\" class=\"dataframe\">\n",
       "  <thead>\n",
       "    <tr style=\"text-align: right;\">\n",
       "      <th></th>\n",
       "      <th>total_bill</th>\n",
       "      <th>tip</th>\n",
       "      <th>sex</th>\n",
       "      <th>smoker</th>\n",
       "      <th>day</th>\n",
       "      <th>time</th>\n",
       "      <th>size</th>\n",
       "    </tr>\n",
       "  </thead>\n",
       "  <tbody>\n",
       "    <tr>\n",
       "      <td>1</td>\n",
       "      <td>16.99</td>\n",
       "      <td>1.01</td>\n",
       "      <td>Female</td>\n",
       "      <td>No</td>\n",
       "      <td>Sun</td>\n",
       "      <td>Dinner</td>\n",
       "      <td>2</td>\n",
       "    </tr>\n",
       "    <tr>\n",
       "      <td>2</td>\n",
       "      <td>10.34</td>\n",
       "      <td>1.66</td>\n",
       "      <td>Male</td>\n",
       "      <td>No</td>\n",
       "      <td>Sun</td>\n",
       "      <td>Dinner</td>\n",
       "      <td>3</td>\n",
       "    </tr>\n",
       "    <tr>\n",
       "      <td>3</td>\n",
       "      <td>21.01</td>\n",
       "      <td>3.50</td>\n",
       "      <td>Male</td>\n",
       "      <td>No</td>\n",
       "      <td>Sun</td>\n",
       "      <td>Dinner</td>\n",
       "      <td>3</td>\n",
       "    </tr>\n",
       "    <tr>\n",
       "      <td>4</td>\n",
       "      <td>23.68</td>\n",
       "      <td>3.31</td>\n",
       "      <td>Male</td>\n",
       "      <td>No</td>\n",
       "      <td>Sun</td>\n",
       "      <td>Dinner</td>\n",
       "      <td>2</td>\n",
       "    </tr>\n",
       "    <tr>\n",
       "      <td>5</td>\n",
       "      <td>24.59</td>\n",
       "      <td>3.61</td>\n",
       "      <td>Female</td>\n",
       "      <td>No</td>\n",
       "      <td>Sun</td>\n",
       "      <td>Dinner</td>\n",
       "      <td>4</td>\n",
       "    </tr>\n",
       "  </tbody>\n",
       "</table>\n",
       "</div>"
      ],
      "text/plain": [
       "   total_bill   tip     sex smoker  day    time  size\n",
       "1       16.99  1.01  Female     No  Sun  Dinner     2\n",
       "2       10.34  1.66    Male     No  Sun  Dinner     3\n",
       "3       21.01  3.50    Male     No  Sun  Dinner     3\n",
       "4       23.68  3.31    Male     No  Sun  Dinner     2\n",
       "5       24.59  3.61  Female     No  Sun  Dinner     4"
      ]
     },
     "execution_count": 22,
     "metadata": {},
     "output_type": "execute_result"
    }
   ],
   "source": [
    "df.head()"
   ]
  },
  {
   "cell_type": "code",
   "execution_count": 23,
   "metadata": {},
   "outputs": [
    {
     "data": {
      "image/png": "[encoded data removed]",
      "text/plain": [
       "<Figure size 432x288 with 1 Axes>"
      ]
     },
     "metadata": {
      "needs_background": "light"
     },
     "output_type": "display_data"
    }
   ],
   "source": [
    "# T-Tests assume that the continuos variable is normally distributed,\n",
    "# so we need to do a quick check of this.\n",
    "\n",
    "sns.distplot(df.tip)\n",
    "plt.title('Distribution of Tips - Right Skewed')\n",
    "plt.show()"
   ]
  },
  {
   "cell_type": "markdown",
   "metadata": {},
   "source": [
    "## 4.1 Compare mean and median of df.tip\n",
    "\n",
    "- The distribution is right-skewed, so we see below the mean is slightly higher than the median."
   ]
  },
  {
   "cell_type": "code",
   "execution_count": 24,
   "metadata": {},
   "outputs": [
    {
     "name": "stdout",
     "output_type": "stream",
     "text": [
      "The mean is: 2.9982786885245902, and the median is 2.9\n",
      "This is close enough to normal to continue.\n"
     ]
    }
   ],
   "source": [
    "print(f'The mean is: {df.tip.mean()}, and the median is {df.tip.median()}')\n",
    "print('This is close enough to normal to continue.')"
   ]
  },
  {
   "cell_type": "markdown",
   "metadata": {},
   "source": [
    "## 4.2 Calculate the t-statistic and p-value for a One Sample T-Test by hand\n",
    "\n",
    "> $H_0$: There is no difference between smokers' tips and the overall population's tip average.\n",
    "\n",
    "> $H_a$: There is a difference between smokers' tips and the overall population's tip average."
   ]
  },
  {
   "cell_type": "code",
   "execution_count": 26,
   "metadata": {},
   "outputs": [
    {
     "name": "stdout",
     "output_type": "stream",
     "text": [
      "alpha = 0.05\n"
     ]
    }
   ],
   "source": [
    "confidence_interval = .95\n",
    "alpha = round(1 - confidence_interval, 2)\n",
    "print(f'alpha = {alpha}')"
   ]
  },
  {
   "cell_type": "code",
   "execution_count": 31,
   "metadata": {},
   "outputs": [
    {
     "data": {
      "text/html": [
       "<div>\n",
       "<style scoped>\n",
       "    .dataframe tbody tr th:only-of-type {\n",
       "        vertical-align: middle;\n",
       "    }\n",
       "\n",
       "    .dataframe tbody tr th {\n",
       "        vertical-align: top;\n",
       "    }\n",
       "\n",
       "    .dataframe thead th {\n",
       "        text-align: right;\n",
       "    }\n",
       "</style>\n",
       "<table border=\"1\" class=\"dataframe\">\n",
       "  <thead>\n",
       "    <tr style=\"text-align: right;\">\n",
       "      <th></th>\n",
       "      <th>total_bill</th>\n",
       "      <th>tip</th>\n",
       "      <th>sex</th>\n",
       "      <th>smoker</th>\n",
       "      <th>day</th>\n",
       "      <th>time</th>\n",
       "      <th>size</th>\n",
       "    </tr>\n",
       "  </thead>\n",
       "  <tbody>\n",
       "    <tr>\n",
       "      <td>57</td>\n",
       "      <td>38.01</td>\n",
       "      <td>3.00</td>\n",
       "      <td>Male</td>\n",
       "      <td>Yes</td>\n",
       "      <td>Sat</td>\n",
       "      <td>Dinner</td>\n",
       "      <td>4</td>\n",
       "    </tr>\n",
       "    <tr>\n",
       "      <td>59</td>\n",
       "      <td>11.24</td>\n",
       "      <td>1.76</td>\n",
       "      <td>Male</td>\n",
       "      <td>Yes</td>\n",
       "      <td>Sat</td>\n",
       "      <td>Dinner</td>\n",
       "      <td>2</td>\n",
       "    </tr>\n",
       "    <tr>\n",
       "      <td>61</td>\n",
       "      <td>20.29</td>\n",
       "      <td>3.21</td>\n",
       "      <td>Male</td>\n",
       "      <td>Yes</td>\n",
       "      <td>Sat</td>\n",
       "      <td>Dinner</td>\n",
       "      <td>2</td>\n",
       "    </tr>\n",
       "    <tr>\n",
       "      <td>62</td>\n",
       "      <td>13.81</td>\n",
       "      <td>2.00</td>\n",
       "      <td>Male</td>\n",
       "      <td>Yes</td>\n",
       "      <td>Sat</td>\n",
       "      <td>Dinner</td>\n",
       "      <td>2</td>\n",
       "    </tr>\n",
       "    <tr>\n",
       "      <td>63</td>\n",
       "      <td>11.02</td>\n",
       "      <td>1.98</td>\n",
       "      <td>Male</td>\n",
       "      <td>Yes</td>\n",
       "      <td>Sat</td>\n",
       "      <td>Dinner</td>\n",
       "      <td>2</td>\n",
       "    </tr>\n",
       "  </tbody>\n",
       "</table>\n",
       "</div>"
      ],
      "text/plain": [
       "    total_bill   tip   sex smoker  day    time  size\n",
       "57       38.01  3.00  Male    Yes  Sat  Dinner     4\n",
       "59       11.24  1.76  Male    Yes  Sat  Dinner     2\n",
       "61       20.29  3.21  Male    Yes  Sat  Dinner     2\n",
       "62       13.81  2.00  Male    Yes  Sat  Dinner     2\n",
       "63       11.02  1.98  Male    Yes  Sat  Dinner     2"
      ]
     },
     "execution_count": 31,
     "metadata": {},
     "output_type": "execute_result"
    }
   ],
   "source": [
    "smokers = df[df.smoker == 'Yes']\n",
    "smokers.head()"
   ]
  },
  {
   "cell_type": "code",
   "execution_count": 28,
   "metadata": {},
   "outputs": [
    {
     "data": {
      "text/plain": [
       "2.9982786885245902"
      ]
     },
     "execution_count": 28,
     "metadata": {},
     "output_type": "execute_result"
    }
   ],
   "source": [
    "pop_mean = df.tip.mean()\n",
    "pop_mean"
   ]
  },
  {
   "cell_type": "code",
   "execution_count": 32,
   "metadata": {},
   "outputs": [
    {
     "data": {
      "text/plain": [
       "3.008709677419355"
      ]
     },
     "execution_count": 32,
     "metadata": {},
     "output_type": "execute_result"
    }
   ],
   "source": [
    "xbar = smokers.tip.mean()\n",
    "xbar"
   ]
  },
  {
   "cell_type": "code",
   "execution_count": 33,
   "metadata": {},
   "outputs": [
    {
     "data": {
      "text/plain": [
       "1.4014675738128255"
      ]
     },
     "execution_count": 33,
     "metadata": {},
     "output_type": "execute_result"
    }
   ],
   "source": [
    "smokers_standard_dev = smokers.tip.std()\n",
    "smokers_standard_dev"
   ]
  },
  {
   "cell_type": "code",
   "execution_count": 34,
   "metadata": {},
   "outputs": [
    {
     "data": {
      "text/plain": [
       "93"
      ]
     },
     "execution_count": 34,
     "metadata": {},
     "output_type": "execute_result"
    }
   ],
   "source": [
    "n = smokers.shape[0]\n",
    "n"
   ]
  },
  {
   "cell_type": "code",
   "execution_count": 35,
   "metadata": {},
   "outputs": [
    {
     "data": {
      "text/plain": [
       "92"
      ]
     },
     "execution_count": 35,
     "metadata": {},
     "output_type": "execute_result"
    }
   ],
   "source": [
    "degf = n - 1\n",
    "degf"
   ]
  },
  {
   "cell_type": "code",
   "execution_count": 36,
   "metadata": {},
   "outputs": [
    {
     "data": {
      "text/plain": [
       "0.14532541757749468"
      ]
     },
     "execution_count": 36,
     "metadata": {},
     "output_type": "execute_result"
    }
   ],
   "source": [
    "standard_error = smokers_standard_dev / sqrt(n)\n",
    "standard_error"
   ]
  },
  {
   "cell_type": "code",
   "execution_count": 37,
   "metadata": {},
   "outputs": [
    {
     "data": {
      "text/plain": [
       "0.07177676877620093"
      ]
     },
     "execution_count": 37,
     "metadata": {},
     "output_type": "execute_result"
    }
   ],
   "source": [
    "t = (xbar - pop_mean) / (smokers_standard_dev / sqrt(n))\n",
    "t"
   ]
  },
  {
   "cell_type": "code",
   "execution_count": 44,
   "metadata": {},
   "outputs": [
    {
     "name": "stdout",
     "output_type": "stream",
     "text": [
      "Our t-statistic for smokers' tips is 0.0718.\n"
     ]
    }
   ],
   "source": [
    "print(f'Our t-statistic for smokers\\' tips is {t:.4f}.')"
   ]
  },
  {
   "cell_type": "code",
   "execution_count": 45,
   "metadata": {},
   "outputs": [
    {
     "data": {
      "text/plain": [
       "0.9429353685499238"
      ]
     },
     "execution_count": 45,
     "metadata": {},
     "output_type": "execute_result"
    }
   ],
   "source": [
    "p = stats.t(degf).sf(t) * 2\n",
    "p"
   ]
  },
  {
   "cell_type": "code",
   "execution_count": 46,
   "metadata": {},
   "outputs": [
    {
     "name": "stdout",
     "output_type": "stream",
     "text": [
      "Our p-value for smokers' tips is 0.9429353685499238.\n",
      "This means there is about a 94.29% chance that we observe the data we have.\n"
     ]
    }
   ],
   "source": [
    "print(f'Our p-value for smokers\\' tips is {p}.')\n",
    "print(f'This means there is about a {round(p * 100,2)}% chance that we observe the data we have.')"
   ]
  },
  {
   "cell_type": "code",
   "execution_count": 47,
   "metadata": {},
   "outputs": [
    {
     "name": "stdout",
     "output_type": "stream",
     "text": [
      "t = 0.0718\n",
      "p = 0.9429\n"
     ]
    }
   ],
   "source": [
    "print(f't = {t:.4f}')\n",
    "print(f'p = {p:.4f}')"
   ]
  },
  {
   "cell_type": "code",
   "execution_count": 48,
   "metadata": {},
   "outputs": [
    {
     "name": "stdout",
     "output_type": "stream",
     "text": [
      "Our p-value is less than our alpha: False\n"
     ]
    }
   ],
   "source": [
    "print(f'Our p-value is less than our alpha: {p < alpha}')"
   ]
  },
  {
   "cell_type": "markdown",
   "metadata": {},
   "source": [
    "### We fail to reject the null hypothesis that there is no difference in the average tip of smokers and the general population."
   ]
  },
  {
   "cell_type": "markdown",
   "metadata": {},
   "source": [
    "## 4.3 Calculate the t-statistic and p-value using *scipy.stats module*"
   ]
  },
  {
   "cell_type": "code",
   "execution_count": 49,
   "metadata": {},
   "outputs": [
    {
     "data": {
      "text/plain": [
       "(0.07177676877620091, 0.9429353685499238)"
      ]
     },
     "execution_count": 49,
     "metadata": {},
     "output_type": "execute_result"
    }
   ],
   "source": [
    "t, p = stats.ttest_1samp(smokers.tip, df.tip.mean())\n",
    "t, p"
   ]
  },
  {
   "cell_type": "code",
   "execution_count": null,
   "metadata": {},
   "outputs": [],
   "source": [
    "\n",
    "print(f't = {t:.3f}')\n",
    "print(f'p = {p:.3f}')\n",
    "t = 0.072\n",
    "p = 0.943\n",
    "In [25]:\n",
    "print(f'Our p-value is less than our alpha: {p < alpha}')\n",
    "Our p-value is less than our alpha: False\n",
    "Now THAT is awesome!!!!\n",
    "\n",
    "print(f't = {t:.3f}')\n",
    "print(f'p = {p:.})"
   ]
  }
 ],
 "metadata": {
  "kernelspec": {
   "display_name": "Python 3",
   "language": "python",
   "name": "python3"
  },
  "language_info": {
   "codemirror_mode": {
    "name": "ipython",
    "version": 3
   },
   "file_extension": ".py",
   "mimetype": "text/x-python",
   "name": "python",
   "nbconvert_exporter": "python",
   "pygments_lexer": "ipython3",
   "version": "3.7.4"
  }
 },
 "nbformat": 4,
 "nbformat_minor": 2
}
