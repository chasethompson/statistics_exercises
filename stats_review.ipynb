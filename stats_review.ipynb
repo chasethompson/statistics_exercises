{
 "cells": [
  {
   "cell_type": "code",
   "execution_count": 1,
   "metadata": {},
   "outputs": [],
   "source": [
    "import pandas as pd\n",
    "import numpy as np\n",
    "\n",
    "import matplotlib.pyplot as plt\n",
    "%matplotlib inline\n",
    "import seaborn as sns\n",
    "\n",
    "from math import sqrt\n",
    "from scipy import stats\n",
    "\n",
    "from pydataset import data\n",
    "\n",
    "from env import host, user, password"
   ]
  },
  {
   "cell_type": "markdown",
   "metadata": {},
   "source": [
    "# 1  Statistical Distributions - Quick Look\n",
    "\n",
    "### **Uniform Distribution**\n",
    "\n",
    "- allows us to model events where the outcome is discrete, and each outcome has an equally likely chance of occurring.\n",
    "\n",
    "### *What You Need*\n",
    "\n",
    "Finite number of outcomes equally likely to happen.\n",
    "\n",
    "### *So what?*\n",
    "\n",
    "Allows you to construct a random variable that has an equal opportunity of being any one of the integers in the range you establish using the start (inclusive) and stop (exclusive) below.\n",
    "\n",
    "### *Now What?*"
   ]
  },
  {
   "cell_type": "markdown",
   "metadata": {},
   "source": [
    "`stats.randint(start, stop)`"
   ]
  },
  {
   "cell_type": "markdown",
   "metadata": {},
   "source": [
    "### Binomial Distribution \n",
    "\n",
    "- allows us to model the number of successes after a number of trials, given a certain probability of success. This distribution assumes that each trial is independent. Discrete, upper bound by # of events\n",
    "\n",
    "### *What You Need*\n",
    "\n",
    "n = trials\n",
    "p = p(success)\n",
    "\n",
    "### *So what?*\n",
    "\n",
    "returns the likelihood of successes\n",
    "\n",
    "### *Now What?\n",
    "\n",
    "`stats.binom(n, p)`"
   ]
  },
  {
   "cell_type": "markdown",
   "metadata": {},
   "source": [
    "### Normal Distribution \n",
    "\n",
    "- allows us to model a continuous random variable where the further away from the mean you are, the less likely the outcome.\n",
    "\n",
    "### *What You Need*\n",
    "\n",
    "mean\n",
    "standard deviation\n",
    "\n",
    "### *So what?*\n",
    "\n",
    "The Standard Normal Distribution is a normal distribution with a mean of 0 and a standard deviation of 1.\n",
    "\n",
    "### *Now What?*\n",
    "\n",
    "`stats.norm(mean, standard deviation)`"
   ]
  },
  {
   "cell_type": "markdown",
   "metadata": {},
   "source": [
    "### Poisson Distribution\n",
    "- allows us to model a situation where a certain number of events happen over a specified time interval. This distribution assumes that the events are independent of each other. Continuous, not upper bound. Can go off into ∞\n",
    " \n",
    "What You Need\n",
    "average rate\n",
    "So what?\n",
    "Returns the number of events that can be classified as successes or failures.\n",
    "Now What?\n",
    "stats.poisson(average rate)"
   ]
  }
 ],
 "metadata": {
  "kernelspec": {
   "display_name": "Python 3",
   "language": "python",
   "name": "python3"
  },
  "language_info": {
   "codemirror_mode": {
    "name": "ipython",
    "version": 3
   },
   "file_extension": ".py",
   "mimetype": "text/x-python",
   "name": "python",
   "nbconvert_exporter": "python",
   "pygments_lexer": "ipython3",
   "version": "3.7.4"
  }
 },
 "nbformat": 4,
 "nbformat_minor": 2
}
