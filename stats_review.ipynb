{
 "cells": [
  {
   "cell_type": "code",
   "execution_count": 1,
   "metadata": {},
   "outputs": [],
   "source": [
    "import pandas as pd\n",
    "import numpy as np\n",
    "\n",
    "import matplotlib.pyplot as plt\n",
    "%matplotlib inline\n",
    "import seaborn as sns\n",
    "\n",
    "from math import sqrt\n",
    "from scipy import stats\n",
    "\n",
    "from pydataset import data\n",
    "\n",
    "from env import host, user, password"
   ]
  },
  {
   "cell_type": "markdown",
   "metadata": {},
   "source": [
    "# 1  Statistical Distributions - Quick Look\n",
    "\n",
    "### **Uniform Distribution**\n",
    "\n",
    "- allows us to model events where the outcome is discrete, and each outcome has an equally likely chance of occurring.\n",
    "\n",
    "### *What You Need*\n",
    "\n",
    "Finite number of outcomes equally likely to happen.\n",
    "\n",
    "### *So what?*\n",
    "\n",
    "Allows you to construct a random variable that has an equal opportunity of being any one of the integers in the range you establish using the start (inclusive) and stop (exclusive) below.\n",
    "\n",
    "### *Now What?*"
   ]
  },
  {
   "cell_type": "markdown",
   "metadata": {},
   "source": [
    "`stats.randint(start, stop)`"
   ]
  },
  {
   "cell_type": "markdown",
   "metadata": {},
   "source": [
    "### Binomial Distribution \n",
    "\n",
    "- allows us to model the number of successes after a number of trials, given a certain probability of success. This distribution assumes that each trial is independent. Discrete, upper bound by # of events\n",
    "\n",
    "### *What You Need*\n",
    "\n",
    "n = trials\n",
    "\n",
    "p = p(success)\n",
    "\n",
    "### *So what?*\n",
    "\n",
    "returns the likelihood of successes\n",
    "\n",
    "### *Now What?*\n",
    "\n",
    "`stats.binom(n, p)`"
   ]
  },
  {
   "cell_type": "markdown",
   "metadata": {},
   "source": [
    "### Normal Distribution \n",
    "\n",
    "- allows us to model a continuous random variable where the further away from the mean you are, the less likely the outcome.\n",
    "\n",
    "### *What You Need*\n",
    "\n",
    "mean\n",
    "\n",
    "standard deviation\n",
    "\n",
    "### *So what?*\n",
    "\n",
    "The Standard Normal Distribution is a normal distribution with a mean of 0 and a standard deviation of 1.\n",
    "\n",
    "### *Now What?*\n",
    "\n",
    "`stats.norm(mean, standard deviation)`"
   ]
  },
  {
   "cell_type": "markdown",
   "metadata": {},
   "source": [
    "### Poisson Distribution\n",
    "- allows us to model a situation where a certain number of events happen over a specified time interval. This distribution assumes that the events are independent of each other. Continuous, not upper bound. Can go off into ∞\n",
    " \n",
    "### *What You Need*\n",
    "\n",
    "average rate\n",
    "\n",
    "### *So what?*\n",
    "\n",
    "Returns the number of events that can be classified as successes or failures.\n",
    "\n",
    "### *Now What?*\n",
    "\n",
    "`stats.poisson(average rate)`"
   ]
  },
  {
   "cell_type": "markdown",
   "metadata": {},
   "source": [
    "**PDF** (Probability Density Function) / **PMF** (Probability Mass Function) - The probability that your random variable takes on an **EXACT** value.\n",
    "\n",
    "`distribution.pdf(probability/continuous)`\n",
    "\n",
    "`distribution.pmf(value/discrete)`\n",
    "\n",
    "**CDF** (Cumulative Density Function) / **PPF** (Percent Point Function) - The probability that your random variable takes on a value **less than or equal to** a given point.\n",
    "\n",
    "`distribution.cdf(value/discrete)`\n",
    "\n",
    "`distribution.ppf(probability/continuous)`\n",
    "\n",
    "**SF** (Survival Function) / **ISF** (Inverse Survival Function) - The probability that your random variable takes on a value **greater than** a given point.\n",
    "\n",
    "`distribution.sf(value/discrete)`\n",
    "\n",
    "`distribution.isf(probability/continuous)`"
   ]
  },
  {
   "cell_type": "markdown",
   "metadata": {},
   "source": [
    "# 2 The Central Limit Theorem - Proof of Concept\n",
    "\n",
    "## What's so important about The Central Limit Theorem?\n",
    "\n",
    "If we repeatedly take random samples of the same size from a the same population, and compute the sample mean for each of the samples, the sampling distribution of the sample means will be a normal distribution no matter what the initial distribution of the population was.\n",
    "\n",
    "Even if our original population has a skewed distribution, our sampling distribution will be normal if we have a large enough sample!\n",
    "\n",
    "## *So what?!*\n",
    "\n",
    "In hypothesis testing, the assumption is that our data is from a normal distribution. In real life, our data is usually NOT normally distributed! (Think of the salaries in the Employees database or the home values in the Zillow database.)\n",
    "\n",
    "## *Now What?*\n",
    "\n",
    "The Central Limit Theorem and an appropriate sample size allow us to get around the problems of skewed, real-world data distributions, assume our sample data is normally distributed, and run our hypotheses tests."
   ]
  },
  {
   "cell_type": "code",
   "execution_count": 10,
   "metadata": {},
   "outputs": [],
   "source": [
    "n_dice_per_experiment = ncols = 10\n",
    "n_experiments = nrows = 100"
   ]
  },
  {
   "cell_type": "code",
   "execution_count": 18,
   "metadata": {},
   "outputs": [
    {
     "data": {
      "text/plain": [
       "array([[2, 6, 3, 2, 4, 6, 1, 2, 2, 4],\n",
       "       [6, 6, 2, 5, 2, 1, 2, 5, 2, 2],\n",
       "       [6, 1, 1, 1, 2, 4, 2, 4, 6, 2],\n",
       "       [3, 2, 3, 3, 1, 5, 4, 3, 6, 1]])"
      ]
     },
     "execution_count": 18,
     "metadata": {},
     "output_type": "execute_result"
    }
   ],
   "source": [
    "# Create 2-d array of random numbers between 1 and 6 to represent ten dice rolls for each column\n",
    "\n",
    "dataset = np.random.randint(1, 7, (nrows, ncols))\n",
    "\n",
    "dataset[:4]"
   ]
  },
  {
   "cell_type": "code",
   "execution_count": 19,
   "metadata": {},
   "outputs": [
    {
     "data": {
      "text/plain": [
       "array([3.2, 3.3, 2.9, 3.1, 2.8, 3.7, 3.1, 3.1, 4.5, 2.7, 4.3, 3.5, 3.8,\n",
       "       2.6, 4.5, 3. , 3.5, 2.9, 3. , 3.4, 3.7, 2.8, 3.7, 3.5, 4.6, 4.2,\n",
       "       3.6, 2.3, 4.2, 4.1, 4.4, 3.1, 4.2, 4.1, 3.7, 3.1, 3.7, 2.8, 3.7,\n",
       "       3.8, 2.7, 4.1, 2.8, 3.1, 3.7, 3.3, 2.3, 3.8, 4.2, 3.9, 4. , 4.1,\n",
       "       3. , 4.2, 3.8, 2.7, 4.4, 3.8, 3.1, 2.7, 2.6, 4. , 3.1, 4.2, 3.7,\n",
       "       3.2, 4.2, 3.1, 3.7, 3.4, 3.7, 4.4, 4.1, 3.4, 2.8, 3. , 3.2, 4.3,\n",
       "       3.2, 2.9, 4. , 3.7, 3.6, 2.9, 3.8, 3.8, 3.6, 3.5, 4.5, 3.7, 2. ,\n",
       "       2.7, 3.8, 4.1, 3.6, 3.3, 3.4, 4.6, 3.3, 3.7])"
      ]
     },
     "execution_count": 19,
     "metadata": {},
     "output_type": "execute_result"
    }
   ],
   "source": [
    "# Calculate the average for each set of 10 dice rolls\n",
    "\n",
    "calculated_averages = dataset.mean(axis=1)\n",
    "calculated_averages"
   ]
  },
  {
   "cell_type": "code",
   "execution_count": 20,
   "metadata": {},
   "outputs": [
    {
     "data": {
      "image/png": "[encoded data removed]",
      "text/plain": [
       "<Figure size 432x288 with 1 Axes>"
      ]
     },
     "metadata": {
      "needs_background": "light"
     },
     "output_type": "display_data"
    }
   ],
   "source": [
    "# Visualize the distribution of the 100 oberservations of 10 dice rolls\n",
    "\n",
    "plt.hist(calculated_averages)\n",
    "plt.xlabel(f'Average of {n_dice_per_experiment} dice rolls')\n",
    "plt.ylabel('# of Occurances')\n",
    "plt.title(f'Outcome of averaging {n_dice_per_experiment} dice rolls {n_experiments} times')\n",
    "plt.show()"
   ]
  },
  {
   "cell_type": "markdown",
   "metadata": {},
   "source": [
    "3  Hypothesis Testing - Overview\n",
    "What is Hypothesis Testing?\n",
    "We use hypothesis tests to draw conclusions, answer questions, or interpret beliefs we have about a population using sample data.\n",
    "A hypothesis test evaluates two mutually exclusive statements about a population and informs us which statement is best supported by our sample data.\n",
    "𝐻0\n",
    "H\n",
    "0\n",
    " : There is no difference between smokers' tips and the overall population's tip average.\n",
    "𝐻𝑎\n",
    "H\n",
    "a\n",
    " : There is a difference between smokers' tips and the overall population's tip average.\n",
    "So what?!\n",
    "There are two possible outcomes; if the result confirms the hypothesis, then you've made a measurement. If the result is contrary to the hypothesis, then you've made a discovery - Enrico Fermi\n",
    "Now What?\n",
    "Set up a hypothesis.\n",
    "Calculate a test statistic.\n",
    "Find a p-value from the test statistic.\n",
    "Reject or fail to reject your Null hypothesis\n",
    "\n",
    "# 3 Hypothesis Testing - Overview\n",
    "\n",
    "## What is Hypothesis Testing?\n",
    "\n",
    "We use hypothesis testing to draw conclusions, answer questions, or interpret beliefs we have about a population using sample data.\n",
    "\n",
    "A hypothesis test evaluates two mutually exclusive statements about a population and informs us which statement is best supported by our sample data.\n",
    "\n",
    "> - $H_0$: There is no difference between smokers' tips and the overall population's tip average.\n",
    " \n",
    "> - $H_a$: There is a difference between smokers tips and the overall population's tip average.\n",
    " \n",
    " ## *So what?!*\n",
    " \n",
    "*There are two possible outcomes; if the result confirms the hypothesis, then you've made a measurement. If the result is contrary to the hypothesis, then you've made a discovery - Enrico Fermi*\n",
    "\n",
    "## *Now what?!*\n",
    "\n",
    "> 1. Setup a hypothesis.\n",
    "1. Calculate a test statistic.\n",
    "1. Find a p-value from the test statistic.\n",
    "1. Reject or fail to reject your Null hypothesis."
   ]
  },
  {
   "cell_type": "code",
   "execution_count": null,
   "metadata": {},
   "outputs": [],
   "source": []
  }
 ],
 "metadata": {
  "kernelspec": {
   "display_name": "Python 3",
   "language": "python",
   "name": "python3"
  },
  "language_info": {
   "codemirror_mode": {
    "name": "ipython",
    "version": 3
   },
   "file_extension": ".py",
   "mimetype": "text/x-python",
   "name": "python",
   "nbconvert_exporter": "python",
   "pygments_lexer": "ipython3",
   "version": "3.7.4"
  }
 },
 "nbformat": 4,
 "nbformat_minor": 2
}
