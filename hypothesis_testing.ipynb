{
 "cells": [
  {
   "cell_type": "code",
   "execution_count": 20,
   "metadata": {},
   "outputs": [],
   "source": [
    "import numpy as np\n",
    "import pandas as pd\n",
    "import matplotlib.pyplot as plt\n",
    "from scipy import stats\n",
    "from ipywidgets import interact\n",
    "\n",
    "np.random.seed(19)"
   ]
  },
  {
   "cell_type": "markdown",
   "metadata": {},
   "source": [
    "## Mini Exercise - CLT\n",
    "\n",
    "Calculate, theoretically (in your head is fine), the expected value for the average of 6 dice rolls.\n",
    "Write the code necessary to simulate taking the average of 6 dice rolls 10,000 times. Store each of the 10,000 averages in a list.\n",
    "\n",
    "Plot the distribution of the calculated averages. What do you notice? What kind of distribution is the underlying random variable (i.e. one dice roll?)"
   ]
  },
  {
   "cell_type": "code",
   "execution_count": 8,
   "metadata": {},
   "outputs": [],
   "source": [
    "rolls = pd.DataFrame(np.random.choice([1, 2, 3, 4, 5, 6], size=(10_000, 6)))"
   ]
  },
  {
   "cell_type": "code",
   "execution_count": 9,
   "metadata": {},
   "outputs": [
    {
     "data": {
      "text/html": [
       "<div>\n",
       "<style scoped>\n",
       "    .dataframe tbody tr th:only-of-type {\n",
       "        vertical-align: middle;\n",
       "    }\n",
       "\n",
       "    .dataframe tbody tr th {\n",
       "        vertical-align: top;\n",
       "    }\n",
       "\n",
       "    .dataframe thead th {\n",
       "        text-align: right;\n",
       "    }\n",
       "</style>\n",
       "<table border=\"1\" class=\"dataframe\">\n",
       "  <thead>\n",
       "    <tr style=\"text-align: right;\">\n",
       "      <th></th>\n",
       "      <th>0</th>\n",
       "      <th>1</th>\n",
       "      <th>2</th>\n",
       "      <th>3</th>\n",
       "      <th>4</th>\n",
       "      <th>5</th>\n",
       "    </tr>\n",
       "  </thead>\n",
       "  <tbody>\n",
       "    <tr>\n",
       "      <td>0</td>\n",
       "      <td>6</td>\n",
       "      <td>6</td>\n",
       "      <td>3</td>\n",
       "      <td>1</td>\n",
       "      <td>4</td>\n",
       "      <td>5</td>\n",
       "    </tr>\n",
       "    <tr>\n",
       "      <td>1</td>\n",
       "      <td>3</td>\n",
       "      <td>3</td>\n",
       "      <td>1</td>\n",
       "      <td>3</td>\n",
       "      <td>6</td>\n",
       "      <td>2</td>\n",
       "    </tr>\n",
       "    <tr>\n",
       "      <td>2</td>\n",
       "      <td>3</td>\n",
       "      <td>3</td>\n",
       "      <td>5</td>\n",
       "      <td>1</td>\n",
       "      <td>2</td>\n",
       "      <td>4</td>\n",
       "    </tr>\n",
       "    <tr>\n",
       "      <td>3</td>\n",
       "      <td>2</td>\n",
       "      <td>5</td>\n",
       "      <td>6</td>\n",
       "      <td>6</td>\n",
       "      <td>5</td>\n",
       "      <td>2</td>\n",
       "    </tr>\n",
       "    <tr>\n",
       "      <td>4</td>\n",
       "      <td>2</td>\n",
       "      <td>3</td>\n",
       "      <td>6</td>\n",
       "      <td>4</td>\n",
       "      <td>2</td>\n",
       "      <td>1</td>\n",
       "    </tr>\n",
       "    <tr>\n",
       "      <td>...</td>\n",
       "      <td>...</td>\n",
       "      <td>...</td>\n",
       "      <td>...</td>\n",
       "      <td>...</td>\n",
       "      <td>...</td>\n",
       "      <td>...</td>\n",
       "    </tr>\n",
       "    <tr>\n",
       "      <td>9995</td>\n",
       "      <td>6</td>\n",
       "      <td>6</td>\n",
       "      <td>3</td>\n",
       "      <td>3</td>\n",
       "      <td>4</td>\n",
       "      <td>6</td>\n",
       "    </tr>\n",
       "    <tr>\n",
       "      <td>9996</td>\n",
       "      <td>1</td>\n",
       "      <td>2</td>\n",
       "      <td>1</td>\n",
       "      <td>5</td>\n",
       "      <td>6</td>\n",
       "      <td>1</td>\n",
       "    </tr>\n",
       "    <tr>\n",
       "      <td>9997</td>\n",
       "      <td>4</td>\n",
       "      <td>1</td>\n",
       "      <td>3</td>\n",
       "      <td>4</td>\n",
       "      <td>3</td>\n",
       "      <td>1</td>\n",
       "    </tr>\n",
       "    <tr>\n",
       "      <td>9998</td>\n",
       "      <td>6</td>\n",
       "      <td>5</td>\n",
       "      <td>1</td>\n",
       "      <td>5</td>\n",
       "      <td>2</td>\n",
       "      <td>5</td>\n",
       "    </tr>\n",
       "    <tr>\n",
       "      <td>9999</td>\n",
       "      <td>4</td>\n",
       "      <td>2</td>\n",
       "      <td>1</td>\n",
       "      <td>6</td>\n",
       "      <td>2</td>\n",
       "      <td>3</td>\n",
       "    </tr>\n",
       "  </tbody>\n",
       "</table>\n",
       "<p>10000 rows × 6 columns</p>\n",
       "</div>"
      ],
      "text/plain": [
       "      0  1  2  3  4  5\n",
       "0     6  6  3  1  4  5\n",
       "1     3  3  1  3  6  2\n",
       "2     3  3  5  1  2  4\n",
       "3     2  5  6  6  5  2\n",
       "4     2  3  6  4  2  1\n",
       "...  .. .. .. .. .. ..\n",
       "9995  6  6  3  3  4  6\n",
       "9996  1  2  1  5  6  1\n",
       "9997  4  1  3  4  3  1\n",
       "9998  6  5  1  5  2  5\n",
       "9999  4  2  1  6  2  3\n",
       "\n",
       "[10000 rows x 6 columns]"
      ]
     },
     "execution_count": 9,
     "metadata": {},
     "output_type": "execute_result"
    }
   ],
   "source": [
    "rolls"
   ]
  },
  {
   "cell_type": "code",
   "execution_count": 10,
   "metadata": {},
   "outputs": [],
   "source": [
    "rolls['avg'] = rolls.mean(axis = 1)"
   ]
  },
  {
   "cell_type": "code",
   "execution_count": 11,
   "metadata": {},
   "outputs": [
    {
     "data": {
      "text/html": [
       "<div>\n",
       "<style scoped>\n",
       "    .dataframe tbody tr th:only-of-type {\n",
       "        vertical-align: middle;\n",
       "    }\n",
       "\n",
       "    .dataframe tbody tr th {\n",
       "        vertical-align: top;\n",
       "    }\n",
       "\n",
       "    .dataframe thead th {\n",
       "        text-align: right;\n",
       "    }\n",
       "</style>\n",
       "<table border=\"1\" class=\"dataframe\">\n",
       "  <thead>\n",
       "    <tr style=\"text-align: right;\">\n",
       "      <th></th>\n",
       "      <th>0</th>\n",
       "      <th>1</th>\n",
       "      <th>2</th>\n",
       "      <th>3</th>\n",
       "      <th>4</th>\n",
       "      <th>5</th>\n",
       "      <th>avg</th>\n",
       "    </tr>\n",
       "  </thead>\n",
       "  <tbody>\n",
       "    <tr>\n",
       "      <td>0</td>\n",
       "      <td>6</td>\n",
       "      <td>6</td>\n",
       "      <td>3</td>\n",
       "      <td>1</td>\n",
       "      <td>4</td>\n",
       "      <td>5</td>\n",
       "      <td>4.166667</td>\n",
       "    </tr>\n",
       "    <tr>\n",
       "      <td>1</td>\n",
       "      <td>3</td>\n",
       "      <td>3</td>\n",
       "      <td>1</td>\n",
       "      <td>3</td>\n",
       "      <td>6</td>\n",
       "      <td>2</td>\n",
       "      <td>3.000000</td>\n",
       "    </tr>\n",
       "    <tr>\n",
       "      <td>2</td>\n",
       "      <td>3</td>\n",
       "      <td>3</td>\n",
       "      <td>5</td>\n",
       "      <td>1</td>\n",
       "      <td>2</td>\n",
       "      <td>4</td>\n",
       "      <td>3.000000</td>\n",
       "    </tr>\n",
       "    <tr>\n",
       "      <td>3</td>\n",
       "      <td>2</td>\n",
       "      <td>5</td>\n",
       "      <td>6</td>\n",
       "      <td>6</td>\n",
       "      <td>5</td>\n",
       "      <td>2</td>\n",
       "      <td>4.333333</td>\n",
       "    </tr>\n",
       "    <tr>\n",
       "      <td>4</td>\n",
       "      <td>2</td>\n",
       "      <td>3</td>\n",
       "      <td>6</td>\n",
       "      <td>4</td>\n",
       "      <td>2</td>\n",
       "      <td>1</td>\n",
       "      <td>3.000000</td>\n",
       "    </tr>\n",
       "    <tr>\n",
       "      <td>...</td>\n",
       "      <td>...</td>\n",
       "      <td>...</td>\n",
       "      <td>...</td>\n",
       "      <td>...</td>\n",
       "      <td>...</td>\n",
       "      <td>...</td>\n",
       "      <td>...</td>\n",
       "    </tr>\n",
       "    <tr>\n",
       "      <td>9995</td>\n",
       "      <td>6</td>\n",
       "      <td>6</td>\n",
       "      <td>3</td>\n",
       "      <td>3</td>\n",
       "      <td>4</td>\n",
       "      <td>6</td>\n",
       "      <td>4.666667</td>\n",
       "    </tr>\n",
       "    <tr>\n",
       "      <td>9996</td>\n",
       "      <td>1</td>\n",
       "      <td>2</td>\n",
       "      <td>1</td>\n",
       "      <td>5</td>\n",
       "      <td>6</td>\n",
       "      <td>1</td>\n",
       "      <td>2.666667</td>\n",
       "    </tr>\n",
       "    <tr>\n",
       "      <td>9997</td>\n",
       "      <td>4</td>\n",
       "      <td>1</td>\n",
       "      <td>3</td>\n",
       "      <td>4</td>\n",
       "      <td>3</td>\n",
       "      <td>1</td>\n",
       "      <td>2.666667</td>\n",
       "    </tr>\n",
       "    <tr>\n",
       "      <td>9998</td>\n",
       "      <td>6</td>\n",
       "      <td>5</td>\n",
       "      <td>1</td>\n",
       "      <td>5</td>\n",
       "      <td>2</td>\n",
       "      <td>5</td>\n",
       "      <td>4.000000</td>\n",
       "    </tr>\n",
       "    <tr>\n",
       "      <td>9999</td>\n",
       "      <td>4</td>\n",
       "      <td>2</td>\n",
       "      <td>1</td>\n",
       "      <td>6</td>\n",
       "      <td>2</td>\n",
       "      <td>3</td>\n",
       "      <td>3.000000</td>\n",
       "    </tr>\n",
       "  </tbody>\n",
       "</table>\n",
       "<p>10000 rows × 7 columns</p>\n",
       "</div>"
      ],
      "text/plain": [
       "      0  1  2  3  4  5       avg\n",
       "0     6  6  3  1  4  5  4.166667\n",
       "1     3  3  1  3  6  2  3.000000\n",
       "2     3  3  5  1  2  4  3.000000\n",
       "3     2  5  6  6  5  2  4.333333\n",
       "4     2  3  6  4  2  1  3.000000\n",
       "...  .. .. .. .. .. ..       ...\n",
       "9995  6  6  3  3  4  6  4.666667\n",
       "9996  1  2  1  5  6  1  2.666667\n",
       "9997  4  1  3  4  3  1  2.666667\n",
       "9998  6  5  1  5  2  5  4.000000\n",
       "9999  4  2  1  6  2  3  3.000000\n",
       "\n",
       "[10000 rows x 7 columns]"
      ]
     },
     "execution_count": 11,
     "metadata": {},
     "output_type": "execute_result"
    }
   ],
   "source": [
    "rolls"
   ]
  },
  {
   "cell_type": "code",
   "execution_count": 19,
   "metadata": {},
   "outputs": [
    {
     "data": {
      "text/plain": [
       "<matplotlib.axes._subplots.AxesSubplot at 0x1a20577450>"
      ]
     },
     "execution_count": 19,
     "metadata": {},
     "output_type": "execute_result"
    },
    {
     "data": {
      "image/png": "[encoded data removed]",
      "text/plain": [
       "<Figure size 432x288 with 1 Axes>"
      ]
     },
     "metadata": {
      "needs_background": "light"
     },
     "output_type": "display_data"
    }
   ],
   "source": [
    "rolls.avg.plot.hist(bins=5)"
   ]
  },
  {
   "cell_type": "code",
   "execution_count": 13,
   "metadata": {},
   "outputs": [
    {
     "data": {
      "text/plain": [
       "0      3.48210\n",
       "1      3.49620\n",
       "2      3.51230\n",
       "3      3.48440\n",
       "4      3.49080\n",
       "5      3.48530\n",
       "avg    3.49185\n",
       "dtype: float64"
      ]
     },
     "execution_count": 13,
     "metadata": {},
     "output_type": "execute_result"
    }
   ],
   "source": [
    "rolls.mean()"
   ]
  },
  {
   "cell_type": "code",
   "execution_count": 21,
   "metadata": {},
   "outputs": [
    {
     "data": {
      "application/vnd.jupyter.widget-view+json": {
       "model_id": "8c7410104abe4244a8ec6b019693bd2d",
       "version_major": 2,
       "version_minor": 0
      },
      "text/plain": [
       "interactive(children=(IntSlider(value=25, description='n_dice', max=50, min=1, step=2), Output()), _dom_classe…"
      ]
     },
     "metadata": {},
     "output_type": "display_data"
    },
    {
     "data": {
      "text/plain": [
       "<function __main__.plot_dice_rolls(n_dice)>"
      ]
     },
     "execution_count": 21,
     "metadata": {},
     "output_type": "execute_result"
    }
   ],
   "source": [
    "def plot_dice_rolls(n_dice):\n",
    "    n_sims = 10_000\n",
    "    rolls = np.random.choice(range(1, 7), (n_sims, n_dice))\n",
    "\n",
    "    plt.figure(figsize=(10, 7))\n",
    "    plt.hist(rolls.mean(axis=1), density=True) # density=True gives us a %\n",
    "    plt.title(f'Average of {n_dice} dice rolls based on {n_sims:,} simulations')\n",
    "    plt.xlim(0, 7)\n",
    "    plt.ylabel('% of times we get this value')\n",
    "    plt.xlabel('Average')\n",
    "\n",
    "    plt.show()\n",
    "\n",
    "interact(plot_dice_rolls, n_dice=(1, 50, 2))"
   ]
  },
  {
   "cell_type": "markdown",
   "metadata": {},
   "source": [
    "2 x 2 Categories:\n",
    "\n",
    "- True / False : Whether we concluded the right or wrong thing\n",
    "- Positive / Negative: Whether we concluded there is something(+) or there isn't something (-)"
   ]
  },
  {
   "cell_type": "markdown",
   "metadata": {},
   "source": [
    "For each of the following questions, formulate a null and alternative hypothesis (be as specific as you can be), then give an example of what a true positive, true negative, type I and type II errors would look like. Note that some of the questions are intentionally phrased in a vague way. It is your job to reword these as more precise questions that could be tested.\n",
    "\n",
    "## Has the network latency gone up since we switched internet service providers?\n"
   ]
  },
  {
   "cell_type": "markdown",
   "metadata": {},
   "source": [
    "Data Sources:\n",
    "\n",
    "- user survey on latency experience\n",
    "- pre-changes speed tests vs post-change speed tests\n",
    "    - Speedtest.net\n",
    "    - Fast.com"
   ]
  },
  {
   "cell_type": "markdown",
   "metadata": {},
   "source": [
    "speed test changes\n",
    "\n",
    "- $H_0$: network latency has remained the same since switching to a new ISP\n",
    "- $H_a$: network latency has improved since the switch to the new ISP\n",
    "\n",
    "\n",
    "- True Positive\n",
    "    - low p-value\n",
    "    - reject $H_0$\n",
    "    - new avg latency via two different speedtest platforms is 50ms\n",
    "    - previous avg latency via two different speedtest platforms was 102ms\n",
    "\n",
    "\n",
    "- False Positive\n",
    "    - low p-value\n",
    "    - reject $H_0$\n",
    "    - a significant difference in latency \n",
    "    - latency speeds were calculated during peak hours for old ISP and non-peak hours for new ISP\n",
    "    \n",
    "- True Negative\n",
    "    - high p-value\n",
    "    - fail to reject $H_0$\n",
    "    - new avg latency is 90ms\n",
    "    - previous avg was 100ms\n",
    "    \n",
    "- False Negative\n",
    "    - high p-value\n",
    "    - fail to reject $H_0$\n",
    "    - network latency has remained the same\n",
    "    - bias survey of my nephew still getting pwn'd by noobs in COD"
   ]
  },
  {
   "cell_type": "markdown",
   "metadata": {},
   "source": [
    "## Is the website redesign any good?"
   ]
  },
  {
   "cell_type": "markdown",
   "metadata": {},
   "source": [
    "Data Sources:\n",
    "\n",
    "- user survey on website redesign\n",
    "- conversion rate changes from old vs new design\n",
    "- scrape social network sentiment reaction to redesign"
   ]
  },
  {
   "cell_type": "markdown",
   "metadata": {},
   "source": [
    "conversion rate changes\n",
    "\n",
    "- $H_0$: conversion rates have remained steady since the website redesign took place\n",
    "- $H_a$: conversion rates have increased since the website redesign\n",
    "\n",
    "\n",
    "- True Positive\n",
    "    - low p-value\n",
    "    - reject $H_0$\n",
    "    - conversion rates after redesign are 5.1\n",
    "    - Conversion rate prior to redesign were 2.2\n",
    "    \n",
    "\n",
    "- False Positive\n",
    "    - low p-value\n",
    "    - reject $H_0$\n",
    "    - a significant difference in conversion rates\n",
    "    - conversion rates data used was pre holiday sales, post was during holiday seasson\n",
    "    \n",
    "    \n",
    "- True Negative\n",
    "    - high p-value\n",
    "    - fail to reject $H_0$\n",
    "    - new avg latency is 3.4\n",
    "    - previous avg was 3.1\n",
    "    \n",
    "    \n",
    "- False Negative\n",
    "    - high p-value\n",
    "    - fail to reject $H_0$\n",
    "    - conversion rates remained stable\n",
    "    - landing page for conversion remained the same and wasn't part of the redesign"
   ]
  },
  {
   "cell_type": "markdown",
   "metadata": {},
   "source": [
    "## Is our television ad driving more sales?"
   ]
  },
  {
   "cell_type": "markdown",
   "metadata": {},
   "source": [
    "Data Sources:\n",
    "\n",
    "- user questionaire for how customer came through the door\n",
    "- special promo code per ad to gauge user engagement with tv ad"
   ]
  },
  {
   "cell_type": "markdown",
   "metadata": {},
   "source": [
    "promo code per ad\n",
    "\n",
    "- $H_0$: sales have remained steady regardless of television ad\n",
    "- $H_a$: televison ad has driven more sales \n",
    "\n",
    "\n",
    "- True Positive\n",
    "    - low p-value\n",
    "    - reject $H_0$\n",
    "    - month-over-month sales have increased: 15%\n",
    "    - previous month-over-month sales rate: 1.9%\n",
    "\n",
    "\n",
    "- False Positive\n",
    "    - low p-value\n",
    "    - reject $H_0$\n",
    "    - a significant difference sales \n",
    "    - everyone was quaratined and you sell toilet paper\n",
    "    \n",
    "    \n",
    "- True Negative\n",
    "    - high p-value\n",
    "    - fail to reject $H_0$\n",
    "    - month-over-month sales rate: 3.1%\n",
    "    - previous month-over-month sales rate: 2.4%\n",
    "    \n",
    "    \n",
    "- False Negative\n",
    "    - high p-value\n",
    "    - fail to reject $H_0$\n",
    "    - sales figures remained flat\n",
    "    - your target audience doesn't watch TV during your TV ad slotted time"
   ]
  },
  {
   "cell_type": "markdown",
   "metadata": {},
   "source": []
  }
 ],
 "metadata": {
  "kernelspec": {
   "display_name": "Python 3",
   "language": "python",
   "name": "python3"
  },
  "language_info": {
   "codemirror_mode": {
    "name": "ipython",
    "version": 3
   },
   "file_extension": ".py",
   "mimetype": "text/x-python",
   "name": "python",
   "nbconvert_exporter": "python",
   "pygments_lexer": "ipython3",
   "version": "3.7.4"
  }
 },
 "nbformat": 4,
 "nbformat_minor": 2
}
